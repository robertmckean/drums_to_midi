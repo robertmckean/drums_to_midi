{
 "cells": [
  {
   "cell_type": "code",
   "execution_count": 2,
   "metadata": {
    "colab": {
     "base_uri": "https://localhost:8080/"
    },
    "id": "00q8H7q2nw_e",
    "outputId": "35f96b14-09fb-4fdd-b318-2d4a8283e473"
   },
   "outputs": [
    {
     "name": "stdout",
     "output_type": "stream",
     "text": [
      "Requirement already satisfied: nnAudio in /usr/local/lib/python3.10/dist-packages (0.3.2)\n",
      "Requirement already satisfied: scipy in /usr/local/lib/python3.10/dist-packages (from nnAudio) (1.11.4)\n",
      "Requirement already satisfied: numpy<1.28.0,>=1.21.6 in /usr/local/lib/python3.10/dist-packages (from scipy->nnAudio) (1.23.5)\n"
     ]
    }
   ],
   "source": [
    "!pip install nnAudio"
   ]
  },
  {
   "cell_type": "markdown",
   "metadata": {
    "id": "xoLNU-j5nK3c"
   },
   "source": []
  },
  {
   "cell_type": "code",
   "execution_count": 3,
   "metadata": {
    "colab": {
     "base_uri": "https://localhost:8080/"
    },
    "id": "L0dZsR21qif7",
    "outputId": "bc5a1656-5d30-4d15-8a0e-d1d9c9955212"
   },
   "outputs": [
    {
     "name": "stdout",
     "output_type": "stream",
     "text": [
      "Mounted at /midi\n"
     ]
    }
   ],
   "source": [
    "from google.colab import drive\n",
    "drive.mount('/midi')"
   ]
  },
  {
   "cell_type": "code",
   "execution_count": 4,
   "metadata": {
    "colab": {
     "base_uri": "https://localhost:8080/"
    },
    "id": "ySPKLHGoUr8e",
    "outputId": "eee39785-ed0e-40a1-a8a5-10b0b555ae13"
   },
   "outputs": [
    {
     "name": "stdout",
     "output_type": "stream",
     "text": [
      " colab_unet_20.pt\n",
      " colab_unet_model.pth\n",
      " GM_long.pth\n",
      "'Inline Model from Working Version-V3_reaper_midi error_drop_05_nosig_best.pth'\n",
      " \u001b[0m\u001b[01;34m__pycache__\u001b[0m/\n",
      " reaper_audio_3.wav\n",
      " reaper_audio.wav\n",
      " reaper_GM_audio.wav\n",
      " reaper_GM_midi_processed.csv\n",
      " reaper_midi_GM.csv\n",
      " reaper_midi_loop_2_cym.csv\n",
      " reaper_midi_loop_3.csv\n",
      " reaper_midi_loop.csv\n",
      " reaper_midi_loop_processed_3.csv\n",
      " reaper_midi_loop_processed.csv\n",
      " robert.py\n"
     ]
    }
   ],
   "source": [
    "ls /midi/MyDrive/midi"
   ]
  },
  {
   "cell_type": "markdown",
   "metadata": {
    "id": "eMGng1uWvUcn"
   },
   "source": [
    "# New Section"
   ]
  },
  {
   "cell_type": "markdown",
   "metadata": {
    "id": "zDvJeW8fvU7H"
   },
   "source": [
    "# New Section"
   ]
  },
  {
   "cell_type": "code",
   "execution_count": 5,
   "metadata": {
    "colab": {
     "base_uri": "https://localhost:8080/"
    },
    "id": "-7-bpr-2ngzJ",
    "outputId": "5bbf2dc2-a21d-435c-fd80-e19710dc943a"
   },
   "outputs": [
    {
     "name": "stderr",
     "output_type": "stream",
     "text": [
      "/usr/local/lib/python3.10/dist-packages/nnAudio/Spectrogram.py:4: Warning: importing Spectrogram subpackage will be deprecated soon. You should import the feature extractor from the feature subpackage. See actual documentation.\n",
      "  warnings.warn(\n"
     ]
    }
   ],
   "source": [
    "import os\n",
    "import numpy as np\n",
    "import librosa\n",
    "import torch\n",
    "from nnAudio import Spectrogram\n",
    "from torch.utils.data import Dataset, DataLoader\n",
    "import torch.nn as nn\n",
    "import torch.nn.functional as F\n",
    "import sys\n",
    "#sys.path.append('/midi/MyDrive/midi/')\n",
    "import robert\n",
    "\n"
   ]
  },
  {
   "cell_type": "code",
   "execution_count": 6,
   "metadata": {
    "colab": {
     "base_uri": "https://localhost:8080/"
    },
    "id": "T2asj_FctjVQ",
    "outputId": "270573b3-ca7f-4fb1-b874-c3d4d3561a57"
   },
   "outputs": [
    {
     "name": "stdout",
     "output_type": "stream",
     "text": [
      "4800.0\n"
     ]
    },
    {
     "data": {
      "text/plain": [
       "((3, 3), 13680)"
      ]
     },
     "execution_count": 6,
     "metadata": {},
     "output_type": "execute_result"
    }
   ],
   "source": [
    "# Create Y data\n",
    "# Y Step 1\n",
    "# Create list_of_midi_arrays\n",
    "# Time-scales and truncates midi arrays.\n",
    "# Inserts empty arrays if no midi data within loop_time\n",
    "# Contains three columns: note, loop_time, vel\n",
    "# Change 832 -> 862. Need to change?\n",
    "\n",
    "def get_list_of_midi_arrays(input_file_path, output_file_path, width=862, note_space=1, sec=2.5, new_loop_time=832):\n",
    "    list_of_midi_arrays, num_slices = robert.process_midi_file(input_file_path, output_file_path,\n",
    "                                                                width=width, note_space=note_space, sec=sec, new_loop_time=new_loop_time)\n",
    "    return list_of_midi_arrays, num_slices\n",
    "\n",
    "# Usage\n",
    "input_file_path = '/midi/MyDrive/midi/reaper_midi_GM.csv'\n",
    "output_file_path = '/midi/MyDrive/midi/reaper_GM_midi_processed.csv'\n",
    "list_of_midi_arrays, num_slices = get_list_of_midi_arrays(input_file_path, output_file_path, width=862, note_space=1, sec=2.5, new_loop_time=832)\n",
    "list_of_midi_arrays[0].shape, num_slices#, list_of_midi_arrays[40]"
   ]
  },
  {
   "cell_type": "code",
   "execution_count": 7,
   "metadata": {
    "id": "jV5NTx8rvg7e"
   },
   "outputs": [],
   "source": [
    "# Y Step 2\n",
    "# Insert midi data into (127, 832) np arrays.\n",
    "# Create list of arrays: 'list_of_processed_midi'\n",
    "\n",
    "def process_list_of_midi_arrays(list_of_midi_arrays):\n",
    "    list_of_processed_midi = []\n",
    "\n",
    "    for idx, midi_array in enumerate(list_of_midi_arrays):\n",
    "        processed_midi = np.zeros((127, 832))\n",
    "\n",
    "        for row in midi_array:\n",
    "            drum_id = int(row[0])     # assuming row[0] contains the drum ID (0 to 126)\n",
    "            time_slice_idx = int(row[1])  # assuming row[1] contains the time slice index (0 to 831)\n",
    "            velocity = row[2]         # assuming row[2] contains the velocity\n",
    "\n",
    "            processed_midi[drum_id, time_slice_idx] = velocity\n",
    "\n",
    "        list_of_processed_midi.append(processed_midi)\n",
    "\n",
    "    return list_of_processed_midi\n",
    "\n",
    "list_of_processed_midi = process_list_of_midi_arrays(list_of_midi_arrays)\n",
    "#print(list_of_processed_midi[1].shape)"
   ]
  },
  {
   "cell_type": "code",
   "execution_count": 8,
   "metadata": {
    "colab": {
     "base_uri": "https://localhost:8080/",
     "height": 70
    },
    "id": "TKgtmfBVP3gz",
    "outputId": "b78ff860-be74-4086-a6f4-4bf19759f2b1"
   },
   "outputs": [
    {
     "data": {
      "application/vnd.google.colaboratory.intrinsic+json": {
       "type": "string"
      },
      "text/plain": [
       "'# Now you can use this dataloader in your training loop:\\nfor batch in dataloader:\\n    # Assuming your model and data are on the same device\\n    output = model(batch)\\n    # continue with your training...\\n'"
      ]
     },
     "execution_count": 8,
     "metadata": {},
     "output_type": "execute_result"
    }
   ],
   "source": [
    "# Dataset for X, Y.\n",
    "\n",
    "class AudioSliceDataset(Dataset):\n",
    "    def __init__(self, audio_path, midi_data, slice_len_sec, sr=44100):\n",
    "        self.audio, _ = librosa.load(audio_path, sr=sr)\n",
    "        self.slice_len = int(slice_len_sec * sr)  # Length of slice in samples\n",
    "        self.slices = self._slice_audio()\n",
    "        self.midi_data = midi_data  # Processed MIDI data\n",
    "\n",
    "    def _slice_audio(self):\n",
    "        num_slices = len(self.audio) // self.slice_len\n",
    "        return [self.audio[i * self.slice_len:(i + 1) * self.slice_len] for i in range(num_slices)]\n",
    "\n",
    "    def __len__(self):\n",
    "        return len(self.slices)\n",
    "\n",
    "    def __getitem__(self, idx):\n",
    "        audio_slice = torch.from_numpy(self.slices[idx]).float().to(device)  # Removed .to(device)\n",
    "        midi_slice = torch.from_numpy(self.midi_data[idx]).float().to(device)  # Removed .to(device)\n",
    "        midi_slice /= 127\n",
    "        return audio_slice, midi_slice\n",
    "\n",
    "\"\"\"# Now you can use this dataloader in your training loop:\n",
    "for batch in dataloader:\n",
    "    # Assuming your model and data are on the same device\n",
    "    output = model(batch)\n",
    "    # continue with your training...\n",
    "\"\"\""
   ]
  },
  {
   "cell_type": "code",
   "execution_count": 9,
   "metadata": {
    "id": "AIi5MHhkP3r6"
   },
   "outputs": [],
   "source": [
    "\"\"\"\n",
    "x1.shape:  torch.Size([1, 110250])\n",
    "Output shape: torch.Size([1, 127, 832])\n",
    "\n",
    "\"\"\"\n",
    "\n",
    "class DrumClassifier(nn.Module):\n",
    "    def __init__(self):\n",
    "        super(DrumClassifier, self).__init__()\n",
    "\n",
    "        # Initialize the STFT layer using nnAudio\n",
    "        self.spec_layer = Spectrogram.STFT(n_fft=2048, hop_length=128, win_length=2048,\n",
    "                                      trainable=True, window='hann', output_format='Magnitude')\n",
    "\n",
    "        self.conv1 = nn.Conv1d(in_channels=1024, out_channels=512, kernel_size=3, padding=1)\n",
    "        self.conv2 = nn.Conv1d(in_channels=512, out_channels=256, kernel_size=3, padding=1)\n",
    "        self.conv3 = nn.Conv1d(in_channels=256, out_channels=128, kernel_size=3, padding=1)\n",
    "        self.pool = nn.MaxPool1d(kernel_size=2)\n",
    "\n",
    "        # Dropout layers\n",
    "        self.dropout1 = nn.Dropout(0.5)\n",
    "        self.dropout2 = nn.Dropout(0.5)\n",
    "        self.dropout3 = nn.Dropout(0.5)\n",
    "\n",
    "        # Batch normalization layers\n",
    "        self.bn1 = nn.BatchNorm1d(512)\n",
    "        self.bn2 = nn.BatchNorm1d(256)\n",
    "        self.bn3 = nn.BatchNorm1d(128)\n",
    "\n",
    "        self.deconv1 = nn.ConvTranspose1d(128, 256, kernel_size=3, stride=2, padding=1, output_padding=1)\n",
    "        self.deconv2 = nn.ConvTranspose1d(256, 512, kernel_size=3, stride=2, padding=1, output_padding=1)\n",
    "        self.deconv3 = nn.ConvTranspose1d(512, 127, kernel_size=3, stride=2, padding=1, output_padding=1)\n",
    "        #self.sigmoid = nn.Sigmoid()\n",
    "\n",
    "    def forward(self, x):\n",
    "        #print(\"x1.shape: \", x.shape)\n",
    "\n",
    "        # Apply spectrogram to input\n",
    "        x = self.spec_layer(x)\n",
    "        x = x[:, :1024, :832]\n",
    "        # print(\"x2.shape: \", x.shape)\n",
    "\n",
    "        x = self.pool(F.relu(self.conv1(x)))\n",
    "        x = self.pool(F.relu(self.conv2(x)))\n",
    "        x = self.pool(F.relu(self.conv3(x)))\n",
    "        x = F.relu(self.deconv1(x))\n",
    "        x = F.relu(self.deconv2(x))\n",
    "        x = self.deconv3(x)\n",
    "        #x = self.sigmoid(x)\n",
    "        return x\n"
   ]
  },
  {
   "cell_type": "code",
   "execution_count": 10,
   "metadata": {
    "colab": {
     "base_uri": "https://localhost:8080/"
    },
    "id": "ocFl12JhP3vT",
    "outputId": "11fcaee1-89ae-43ad-ed27-3e257e6d60ce"
   },
   "outputs": [
    {
     "name": "stdout",
     "output_type": "stream",
     "text": [
      "STFT kernels created, time used = 0.1332 seconds\n",
      "X shape: torch.Size([32, 110250])\n",
      "Y shape: torch.Size([32, 127, 832])\n",
      "train_len:  10944\n"
     ]
    }
   ],
   "source": [
    "import torch\n",
    "import torch.nn as nn\n",
    "from torch.optim import Adam\n",
    "from torch.optim.lr_scheduler import ReduceLROnPlateau\n",
    "from torch.utils.data import DataLoader, random_split\n",
    "\n",
    "# Set your device (use GPU if available)\n",
    "device = torch.device(\"cuda\" if torch.cuda.is_available() else \"cpu\")\n",
    "\n",
    "# Hyperparameters\n",
    "batch_size = 16\n",
    "num_epochs = 150\n",
    "learning_rate = 1e-4\n",
    "\n",
    "# Initialize the model, loss function, and optimizer\n",
    "model = DrumClassifier().to(device)\n",
    "criterion = nn.MSELoss()\n",
    "optimizer = Adam(model.parameters(), lr=learning_rate)\n",
    "\n",
    "# Initialize the learning rate scheduler\n",
    "scheduler = ReduceLROnPlateau(optimizer, mode='min', factor=0.1, patience=10, verbose=True)\n",
    "\n",
    "audio_path = '/midi/MyDrive/midi/reaper_GM_audio.wav'\n",
    "list_of_processed_midi = process_list_of_midi_arrays(list_of_midi_arrays)\n",
    "dataset = AudioSliceDataset(audio_path, list_of_processed_midi, slice_len_sec=2.5)\n",
    "\n",
    "# Create the DataLoader\n",
    "dataloader = DataLoader(dataset, batch_size=32, shuffle=True)\n",
    "\n",
    "# Get the first batch of data\n",
    "first_batch = next(iter(dataloader))\n",
    "\n",
    "# Extract the X and Y data\n",
    "x_data, y_data = first_batch\n",
    "\n",
    "# Move the data to the GPU (if available)\n",
    "x_data = x_data.to(device)\n",
    "y_data = y_data.to(device)\n",
    "\n",
    "# Print the shape of the X and Y data\n",
    "print(\"X shape:\", x_data.shape)\n",
    "print(\"Y shape:\", y_data.shape)\n",
    "\n",
    "\n",
    "# Calculate the lengths of the training and test sets (80/20 split)\n",
    "train_len = int(len(dataset) * 0.8)\n",
    "test_len = len(dataset) - train_len\n",
    "\n",
    "# Split the dataset into training and test sets\n",
    "train_set, test_set = random_split(dataset, [train_len, test_len])\n",
    "print(\"train_len: \", train_len)\n",
    "\n",
    "# Create data loaders for the training and test sets\n",
    "train_loader = DataLoader(train_set, batch_size=batch_size, shuffle=True)\n",
    "test_loader = DataLoader(test_set, batch_size=batch_size, shuffle=True)\n"
   ]
  },
  {
   "cell_type": "code",
   "execution_count": null,
   "metadata": {
    "colab": {
     "base_uri": "https://localhost:8080/"
    },
    "id": "C_RZuz5xP3yf",
    "outputId": "3832743e-a428-43ff-9a14-15b8120f420d"
   },
   "outputs": [
    {
     "name": "stdout",
     "output_type": "stream",
     "text": [
      "Epoch [1/150], Train Loss: 9.2925e-05, Train Accuracy: 9.9983e-01, Test Loss: 6.3556e-05, Test Accuracy: 9.9983e-01\n",
      "Epoch [2/150], Train Loss: 5.5585e-05, Train Accuracy: 9.9983e-01, Test Loss: 5.1200e-05, Test Accuracy: 9.9983e-01\n",
      "Epoch [3/150], Train Loss: 4.8661e-05, Train Accuracy: 9.9983e-01, Test Loss: 4.7388e-05, Test Accuracy: 9.9983e-01\n",
      "Epoch [4/150], Train Loss: 4.3846e-05, Train Accuracy: 9.9983e-01, Test Loss: 4.1668e-05, Test Accuracy: 9.9983e-01\n",
      "Epoch [5/150], Train Loss: 3.8566e-05, Train Accuracy: 9.9983e-01, Test Loss: 3.7323e-05, Test Accuracy: 9.9983e-01\n",
      "Epoch [6/150], Train Loss: 3.3988e-05, Train Accuracy: 9.9983e-01, Test Loss: 3.2736e-05, Test Accuracy: 9.9983e-01\n",
      "Epoch [7/150], Train Loss: 3.0168e-05, Train Accuracy: 9.9983e-01, Test Loss: 3.0081e-05, Test Accuracy: 9.9983e-01\n",
      "Epoch [8/150], Train Loss: 2.7347e-05, Train Accuracy: 9.9983e-01, Test Loss: 2.7352e-05, Test Accuracy: 9.9983e-01\n",
      "Epoch [9/150], Train Loss: 2.4878e-05, Train Accuracy: 9.9984e-01, Test Loss: 2.6057e-05, Test Accuracy: 9.9983e-01\n",
      "Epoch [10/150], Train Loss: 2.2879e-05, Train Accuracy: 9.9984e-01, Test Loss: 2.4992e-05, Test Accuracy: 9.9983e-01\n",
      "Epoch [11/150], Train Loss: 2.1075e-05, Train Accuracy: 9.9984e-01, Test Loss: 2.2792e-05, Test Accuracy: 9.9983e-01\n",
      "Epoch [12/150], Train Loss: 1.9495e-05, Train Accuracy: 9.9984e-01, Test Loss: 2.2183e-05, Test Accuracy: 9.9983e-01\n",
      "Epoch [13/150], Train Loss: 1.8168e-05, Train Accuracy: 9.9984e-01, Test Loss: 2.1196e-05, Test Accuracy: 9.9983e-01\n",
      "Epoch [14/150], Train Loss: 1.6980e-05, Train Accuracy: 9.9984e-01, Test Loss: 2.0273e-05, Test Accuracy: 9.9983e-01\n",
      "Epoch [15/150], Train Loss: 1.5808e-05, Train Accuracy: 9.9984e-01, Test Loss: 1.9815e-05, Test Accuracy: 9.9983e-01\n",
      "Epoch [16/150], Train Loss: 1.4918e-05, Train Accuracy: 9.9984e-01, Test Loss: 1.9003e-05, Test Accuracy: 9.9983e-01\n",
      "Epoch [17/150], Train Loss: 1.4103e-05, Train Accuracy: 9.9984e-01, Test Loss: 1.8297e-05, Test Accuracy: 9.9983e-01\n",
      "Epoch [18/150], Train Loss: 1.3272e-05, Train Accuracy: 9.9984e-01, Test Loss: 1.8039e-05, Test Accuracy: 9.9983e-01\n",
      "Epoch [19/150], Train Loss: 1.2541e-05, Train Accuracy: 9.9984e-01, Test Loss: 1.7941e-05, Test Accuracy: 9.9983e-01\n",
      "Epoch [20/150], Train Loss: 1.1890e-05, Train Accuracy: 9.9984e-01, Test Loss: 1.8036e-05, Test Accuracy: 9.9983e-01\n",
      "Epoch [21/150], Train Loss: 1.1295e-05, Train Accuracy: 9.9984e-01, Test Loss: 1.8250e-05, Test Accuracy: 9.9983e-01\n",
      "Epoch [22/150], Train Loss: 1.0719e-05, Train Accuracy: 9.9984e-01, Test Loss: 1.7695e-05, Test Accuracy: 9.9983e-01\n",
      "Epoch [23/150], Train Loss: 1.0127e-05, Train Accuracy: 9.9984e-01, Test Loss: 1.7263e-05, Test Accuracy: 9.9983e-01\n",
      "Epoch [24/150], Train Loss: 9.7247e-06, Train Accuracy: 9.9984e-01, Test Loss: 1.7290e-05, Test Accuracy: 9.9983e-01\n",
      "Epoch [25/150], Train Loss: 9.2674e-06, Train Accuracy: 9.9984e-01, Test Loss: 1.7532e-05, Test Accuracy: 9.9983e-01\n",
      "Epoch [26/150], Train Loss: 8.8196e-06, Train Accuracy: 9.9984e-01, Test Loss: 1.7290e-05, Test Accuracy: 9.9983e-01\n",
      "Epoch [27/150], Train Loss: 8.4506e-06, Train Accuracy: 9.9984e-01, Test Loss: 1.6733e-05, Test Accuracy: 9.9983e-01\n",
      "Epoch [28/150], Train Loss: 8.0914e-06, Train Accuracy: 9.9984e-01, Test Loss: 1.7600e-05, Test Accuracy: 9.9983e-01\n",
      "Epoch [29/150], Train Loss: 7.7920e-06, Train Accuracy: 9.9984e-01, Test Loss: 1.6533e-05, Test Accuracy: 9.9983e-01\n",
      "Epoch [30/150], Train Loss: 7.4751e-06, Train Accuracy: 9.9984e-01, Test Loss: 1.6406e-05, Test Accuracy: 9.9983e-01\n",
      "Epoch [31/150], Train Loss: 7.1468e-06, Train Accuracy: 9.9984e-01, Test Loss: 1.6481e-05, Test Accuracy: 9.9983e-01\n",
      "Epoch [32/150], Train Loss: 6.9356e-06, Train Accuracy: 9.9984e-01, Test Loss: 1.6416e-05, Test Accuracy: 9.9983e-01\n",
      "Epoch [33/150], Train Loss: 6.7362e-06, Train Accuracy: 9.9984e-01, Test Loss: 1.6767e-05, Test Accuracy: 9.9983e-01\n",
      "Epoch [34/150], Train Loss: 6.5643e-06, Train Accuracy: 9.9984e-01, Test Loss: 1.6672e-05, Test Accuracy: 9.9983e-01\n",
      "Epoch [35/150], Train Loss: 6.2327e-06, Train Accuracy: 9.9984e-01, Test Loss: 1.6564e-05, Test Accuracy: 9.9983e-01\n",
      "Epoch [36/150], Train Loss: 6.0641e-06, Train Accuracy: 9.9984e-01, Test Loss: 1.6204e-05, Test Accuracy: 9.9983e-01\n",
      "Epoch [37/150], Train Loss: 6.0294e-06, Train Accuracy: 9.9984e-01, Test Loss: 1.6432e-05, Test Accuracy: 9.9983e-01\n",
      "Epoch [38/150], Train Loss: 5.6294e-06, Train Accuracy: 9.9984e-01, Test Loss: 1.6622e-05, Test Accuracy: 9.9983e-01\n",
      "Epoch [39/150], Train Loss: 5.6229e-06, Train Accuracy: 9.9984e-01, Test Loss: 1.6238e-05, Test Accuracy: 9.9983e-01\n",
      "Epoch [40/150], Train Loss: 5.5142e-06, Train Accuracy: 9.9984e-01, Test Loss: 1.5906e-05, Test Accuracy: 9.9983e-01\n",
      "Epoch [41/150], Train Loss: 5.2424e-06, Train Accuracy: 9.9984e-01, Test Loss: 1.5868e-05, Test Accuracy: 9.9983e-01\n",
      "Epoch [42/150], Train Loss: 5.0481e-06, Train Accuracy: 9.9984e-01, Test Loss: 1.6168e-05, Test Accuracy: 9.9983e-01\n",
      "Epoch [43/150], Train Loss: 5.0813e-06, Train Accuracy: 9.9984e-01, Test Loss: 1.6073e-05, Test Accuracy: 9.9983e-01\n",
      "Epoch [44/150], Train Loss: 4.9303e-06, Train Accuracy: 9.9984e-01, Test Loss: 1.5885e-05, Test Accuracy: 9.9983e-01\n",
      "Epoch [45/150], Train Loss: 4.8697e-06, Train Accuracy: 9.9984e-01, Test Loss: 1.5917e-05, Test Accuracy: 9.9983e-01\n",
      "Epoch [46/150], Train Loss: 4.6617e-06, Train Accuracy: 9.9984e-01, Test Loss: 1.5817e-05, Test Accuracy: 9.9983e-01\n",
      "Epoch [47/150], Train Loss: 4.4445e-06, Train Accuracy: 9.9984e-01, Test Loss: 1.6278e-05, Test Accuracy: 9.9983e-01\n",
      "Epoch [48/150], Train Loss: 4.6478e-06, Train Accuracy: 9.9984e-01, Test Loss: 1.5890e-05, Test Accuracy: 9.9983e-01\n",
      "Epoch [49/150], Train Loss: 4.4576e-06, Train Accuracy: 9.9984e-01, Test Loss: 1.6267e-05, Test Accuracy: 9.9983e-01\n",
      "Epoch [50/150], Train Loss: 4.4165e-06, Train Accuracy: 9.9984e-01, Test Loss: 1.5761e-05, Test Accuracy: 9.9983e-01\n",
      "Epoch [51/150], Train Loss: 4.2849e-06, Train Accuracy: 9.9984e-01, Test Loss: 1.6124e-05, Test Accuracy: 9.9983e-01\n",
      "Epoch [52/150], Train Loss: 4.2407e-06, Train Accuracy: 9.9984e-01, Test Loss: 1.5970e-05, Test Accuracy: 9.9983e-01\n",
      "Epoch [53/150], Train Loss: 4.0999e-06, Train Accuracy: 9.9984e-01, Test Loss: 1.5785e-05, Test Accuracy: 9.9983e-01\n",
      "Epoch [54/150], Train Loss: 3.8620e-06, Train Accuracy: 9.9984e-01, Test Loss: 1.5703e-05, Test Accuracy: 9.9983e-01\n",
      "Epoch [55/150], Train Loss: 4.1048e-06, Train Accuracy: 9.9984e-01, Test Loss: 1.5981e-05, Test Accuracy: 9.9983e-01\n",
      "Epoch [56/150], Train Loss: 3.6798e-06, Train Accuracy: 9.9984e-01, Test Loss: 1.5668e-05, Test Accuracy: 9.9983e-01\n"
     ]
    }
   ],
   "source": [
    "# Train the model\n",
    "# Training loop with loss and accuracy tracking\n",
    "# Train the model\n",
    "\n",
    "train_losses = []\n",
    "train_accuracies = []\n",
    "test_losses = []\n",
    "test_accuracies = []\n",
    "\n",
    "clip_value = 0.5  # You can change this value depending on your needs\n",
    "\n",
    "for epoch in range(num_epochs):\n",
    "    # Training\n",
    "    model.train()\n",
    "    epoch_train_loss = 0.0\n",
    "    num_correct_train = 0\n",
    "    num_samples_train = 0\n",
    "\n",
    "    for i, (inputs, targets) in enumerate(train_loader):\n",
    "        inputs, targets = inputs.to(device), targets.to(device)\n",
    "\n",
    "        optimizer.zero_grad()\n",
    "\n",
    "        outputs = model(inputs)\n",
    "\n",
    "        loss = criterion(outputs, targets)\n",
    "        loss.backward()\n",
    "\n",
    "        # Gradient clipping\n",
    "        torch.nn.utils.clip_grad_norm_(model.parameters(), clip_value)\n",
    "\n",
    "        optimizer.step()\n",
    "\n",
    "        epoch_train_loss += loss.item()\n",
    "\n",
    "        # Calculate accuracy\n",
    "        predicted = (outputs > 0.5).float()\n",
    "        num_correct_train += (predicted == targets).sum().item()\n",
    "        num_samples_train += targets.numel()\n",
    "\n",
    "    avg_epoch_train_loss = epoch_train_loss / len(train_loader)\n",
    "    epoch_train_accuracy = num_correct_train / num_samples_train\n",
    "\n",
    "    train_losses.append(avg_epoch_train_loss)\n",
    "    train_accuracies.append(epoch_train_accuracy)\n",
    "\n",
    "\n",
    "    # Testing\n",
    "    model.eval()\n",
    "    epoch_test_loss = 0.0\n",
    "    num_correct_test = 0\n",
    "    num_samples_test = 0\n",
    "\n",
    "    with torch.no_grad():\n",
    "        for inputs, targets in test_loader:\n",
    "            inputs, targets = inputs.to(device), targets.to(device)\n",
    "\n",
    "            outputs = model(inputs)\n",
    "\n",
    "            loss = criterion(outputs, targets)\n",
    "            epoch_test_loss += loss.item()\n",
    "\n",
    "            # Calculate accuracy\n",
    "            predicted = (outputs > 0.5).float()\n",
    "            num_correct_test += (predicted == targets).sum().item()\n",
    "            num_samples_test += targets.numel()\n",
    "\n",
    "    avg_epoch_test_loss = epoch_test_loss / len(test_loader)\n",
    "    epoch_test_accuracy = num_correct_test / num_samples_test\n",
    "\n",
    "    # Update the learning rate based on the validation loss\n",
    "    scheduler.step(avg_epoch_test_loss)\n",
    "\n",
    "    test_losses.append(avg_epoch_test_loss)\n",
    "    test_accuracies.append(epoch_test_accuracy)\n",
    "\n",
    "    print(f\"Epoch [{epoch + 1}/{num_epochs}], Train Loss: {avg_epoch_train_loss:.4e}, Train Accuracy: {epoch_train_accuracy:.4e}, Test Loss: {avg_epoch_test_loss:.4e}, Test Accuracy: {epoch_test_accuracy:.4e}\")\n"
   ]
  },
  {
   "cell_type": "code",
   "execution_count": null,
   "metadata": {
    "colab": {
     "base_uri": "https://localhost:8080/",
     "height": 244
    },
    "id": "T7Ku_MRDx3ey",
    "outputId": "3dd2f0e0-29de-45ca-eb1e-e4bab198301c"
   },
   "outputs": [
    {
     "data": {
      "application/vnd.google.colaboratory.intrinsic+json": {
       "type": "string"
      },
      "text/plain": [
       "'\\nPrevious calculations (for reference)\\nEpoch [1/150], Train Loss: 9.6550e-05, Train Accuracy: 9.9985e-01, Test Loss: 6.8493e-05, Test Accuracy: 9.9985e-01\\nEpoch [2/150], Train Loss: 6.2372e-05, Train Accuracy: 9.9985e-01, Test Loss: 5.7504e-05, Test Accuracy: 9.9985e-01\\nEpoch [3/150], Train Loss: 5.6080e-05, Train Accuracy: 9.9985e-01, Test Loss: 5.4564e-05, Test Accuracy: 9.9985e-01\\nEpoch [4/150], Train Loss: 5.3825e-05, Train Accuracy: 9.9985e-01, Test Loss: 5.2685e-05, Test Accuracy: 9.9985e-01\\nEpoch [5/150], Train Loss: 5.1890e-05, Train Accuracy: 9.9985e-01, Test Loss: 5.1442e-05, Test Accuracy: 9.9985e-01\\nEpoch [6/150], Train Loss: 5.0032e-05, Train Accuracy: 9.9986e-01, Test Loss: 4.9427e-05, Test Accuracy: 9.9986e-01\\nEpoch [7/150], Train Loss: 4.8292e-05, Train Accuracy: 9.9986e-01, Test Loss: 4.8010e-05, Test Accuracy: 9.9986e-01\\nEpoch [8/150], Train Loss: 4.6743e-05, Train Accuracy: 9.9986e-01, Test Loss: 4.6832e-05, Test Accuracy: 9.9986e-01\\nEpoch [9/150], Train Loss: 4.5315e-05, Train Accuracy: 9.9986e-01, Test Loss: 4.5950e-05, Test Accuracy: 9.9986e-01\\nEpoch [10/150], Train Loss: 4.4142e-05, Train Accuracy: 9.9986e-01, Test Loss: 4.5145e-05, Test Accuracy: 9.9986e-01\\nEpoch [11/150], Train Loss: 4.2904e-05, Train Accuracy: 9.9986e-01, Test Loss: 4.5094e-05, Test Accuracy: 9.9986e-01\\nEpoch [12/150], Train Loss: 4.1798e-05, Train Accuracy: 9.9986e-01, Test Loss: 4.3660e-05, Test Accuracy: 9.9986e-01\\nEpoch [13/150], Train Loss: 4.0616e-05, Train Accuracy: 9.9986e-01, Test Loss: 4.3405e-05, Test Accuracy: 9.9986e-01\\nEpoch [14/150], Train Loss: 3.9574e-05, Train Accuracy: 9.9986e-01, Test Loss: 4.3165e-05, Test Accuracy: 9.9985e-01\\nEpoch [15/150], Train Loss: 3.8620e-05, Train Accuracy: 9.9986e-01, Test Loss: 4.2157e-05, Test Accuracy: 9.9986e-01\\nEpoch [16/150], Train Loss: 3.7576e-05, Train Accuracy: 9.9986e-01, Test Loss: 4.1611e-05, Test Accuracy: 9.9986e-01\\nEpoch [17/150], Train Loss: 3.6520e-05, Train Accuracy: 9.9986e-01, Test Loss: 4.1262e-05, Test Accuracy: 9.9986e-01\\nEpoch [18/150], Train Loss: 3.5375e-05, Train Accuracy: 9.9986e-01, Test Loss: 4.0302e-05, Test Accuracy: 9.9986e-01\\nEpoch [19/150], Train Loss: 3.4478e-05, Train Accuracy: 9.9986e-01, Test Loss: 4.0089e-05, Test Accuracy: 9.9986e-01\\nEpoch [20/150], Train Loss: 3.3428e-05, Train Accuracy: 9.9986e-01, Test Loss: 3.9610e-05, Test Accuracy: 9.9986e-01\\nEpoch [21/150], Train Loss: 3.2375e-05, Train Accuracy: 9.9986e-01, Test Loss: 3.9052e-05, Test Accuracy: 9.9985e-01\\nEpoch [22/150], Train Loss: 3.1362e-05, Train Accuracy: 9.9986e-01, Test Loss: 3.8028e-05, Test Accuracy: 9.9986e-01\\nEpoch [23/150], Train Loss: 3.0484e-05, Train Accuracy: 9.9986e-01, Test Loss: 3.7585e-05, Test Accuracy: 9.9986e-01\\nEpoch [24/150], Train Loss: 2.9513e-05, Train Accuracy: 9.9986e-01, Test Loss: 3.7242e-05, Test Accuracy: 9.9986e-01\\nEpoch [25/150], Train Loss: 2.8593e-05, Train Accuracy: 9.9986e-01, Test Loss: 3.6637e-05, Test Accuracy: 9.9986e-01\\nEpoch [26/150], Train Loss: 2.7806e-05, Train Accuracy: 9.9986e-01, Test Loss: 3.6507e-05, Test Accuracy: 9.9986e-01\\nEpoch [27/150], Train Loss: 2.6880e-05, Train Accuracy: 9.9986e-01, Test Loss: 3.5971e-05, Test Accuracy: 9.9986e-01\\nEpoch [28/150], Train Loss: 2.6044e-05, Train Accuracy: 9.9986e-01, Test Loss: 3.6201e-05, Test Accuracy: 9.9985e-01\\nEpoch [29/150], Train Loss: 2.5260e-05, Train Accuracy: 9.9986e-01, Test Loss: 3.5567e-05, Test Accuracy: 9.9986e-01\\nEpoch [30/150], Train Loss: 2.4562e-05, Train Accuracy: 9.9986e-01, Test Loss: 3.5129e-05, Test Accuracy: 9.9986e-01\\nEpoch [31/150], Train Loss: 2.3797e-05, Train Accuracy: 9.9986e-01, Test Loss: 3.4897e-05, Test Accuracy: 9.9986e-01\\nEpoch [32/150], Train Loss: 2.3170e-05, Train Accuracy: 9.9986e-01, Test Loss: 3.4570e-05, Test Accuracy: 9.9986e-01\\nEpoch [33/150], Train Loss: 2.2472e-05, Train Accuracy: 9.9986e-01, Test Loss: 3.4141e-05, Test Accuracy: 9.9986e-01\\nEpoch [34/150], Train Loss: 2.1862e-05, Train Accuracy: 9.9986e-01, Test Loss: 3.4036e-05, Test Accuracy: 9.9986e-01\\nEpoch [35/150], Train Loss: 2.1338e-05, Train Accuracy: 9.9987e-01, Test Loss: 3.3829e-05, Test Accuracy: 9.9986e-01\\nEpoch [36/150], Train Loss: 2.0743e-05, Train Accuracy: 9.9987e-01, Test Loss: 3.3495e-05, Test Accuracy: 9.9986e-01\\nEpoch [37/150], Train Loss: 2.0184e-05, Train Accuracy: 9.9987e-01, Test Loss: 3.3897e-05, Test Accuracy: 9.9985e-01\\nEpoch [38/150], Train Loss: 1.9713e-05, Train Accuracy: 9.9987e-01, Test Loss: 3.3118e-05, Test Accuracy: 9.9986e-01\\nEpoch [39/150], Train Loss: 1.9191e-05, Train Accuracy: 9.9987e-01, Test Loss: 3.3106e-05, Test Accuracy: 9.9986e-01\\nEpoch [40/150], Train Loss: 1.8873e-05, Train Accuracy: 9.9987e-01, Test Loss: 3.2706e-05, Test Accuracy: 9.9986e-01\\nEpoch [41/150], Train Loss: 1.8462e-05, Train Accuracy: 9.9987e-01, Test Loss: 3.3611e-05, Test Accuracy: 9.9985e-01\\nEpoch [42/150], Train Loss: 1.8072e-05, Train Accuracy: 9.9987e-01, Test Loss: 3.2320e-05, Test Accuracy: 9.9986e-01\\nEpoch [43/150], Train Loss: 1.7508e-05, Train Accuracy: 9.9987e-01, Test Loss: 3.2661e-05, Test Accuracy: 9.9986e-01\\nEpoch [44/150], Train Loss: 1.7336e-05, Train Accuracy: 9.9987e-01, Test Loss: 3.2449e-05, Test Accuracy: 9.9986e-01\\nEpoch [45/150], Train Loss: 1.7115e-05, Train Accuracy: 9.9987e-01, Test Loss: 3.2052e-05, Test Accuracy: 9.9986e-01\\nEpoch [46/150], Train Loss: 1.6764e-05, Train Accuracy: 9.9987e-01, Test Loss: 3.1909e-05, Test Accuracy: 9.9986e-01\\nEpoch [47/150], Train Loss: 1.6379e-05, Train Accuracy: 9.9987e-01, Test Loss: 3.2104e-05, Test Accuracy: 9.9986e-01\\nEpoch [48/150], Train Loss: 1.6203e-05, Train Accuracy: 9.9987e-01, Test Loss: 3.2198e-05, Test Accuracy: 9.9986e-01\\nEpoch [49/150], Train Loss: 1.5852e-05, Train Accuracy: 9.9987e-01, Test Loss: 3.1965e-05, Test Accuracy: 9.9986e-01\\nEpoch [50/150], Train Loss: 1.5773e-05, Train Accuracy: 9.9987e-01, Test Loss: 3.1726e-05, Test Accuracy: 9.9986e-01\\nEpoch [51/150], Train Loss: 1.5542e-05, Train Accuracy: 9.9987e-01, Test Loss: 3.2133e-05, Test Accuracy: 9.9985e-01\\nEpoch [52/150], Train Loss: 1.5135e-05, Train Accuracy: 9.9987e-01, Test Loss: 3.2366e-05, Test Accuracy: 9.9985e-01\\nEpoch [53/150], Train Loss: 1.5042e-05, Train Accuracy: 9.9987e-01, Test Loss: 3.1448e-05, Test Accuracy: 9.9986e-01\\nEpoch [54/150], Train Loss: 1.4921e-05, Train Accuracy: 9.9987e-01, Test Loss: 3.1801e-05, Test Accuracy: 9.9985e-01\\nEpoch [55/150], Train Loss: 1.4630e-05, Train Accuracy: 9.9987e-01, Test Loss: 3.2520e-05, Test Accuracy: 9.9985e-01\\nEpoch [56/150], Train Loss: 1.4566e-05, Train Accuracy: 9.9987e-01, Test Loss: 3.2106e-05, Test Accuracy: 9.9985e-01\\nEpoch [57/150], Train Loss: 1.4428e-05, Train Accuracy: 9.9987e-01, Test Loss: 3.1513e-05, Test Accuracy: 9.9986e-01\\nEpoch [58/150], Train Loss: 1.4053e-05, Train Accuracy: 9.9987e-01, Test Loss: 3.1165e-05, Test Accuracy: 9.9986e-01\\nEpoch [59/150], Train Loss: 1.4010e-05, Train Accuracy: 9.9987e-01, Test Loss: 3.1603e-05, Test Accuracy: 9.9985e-01\\nEpoch [60/150], Train Loss: 1.3802e-05, Train Accuracy: 9.9987e-01, Test Loss: 3.2295e-05, Test Accuracy: 9.9985e-01\\nEpoch [61/150], Train Loss: 1.3632e-05, Train Accuracy: 9.9987e-01, Test Loss: 3.1812e-05, Test Accuracy: 9.9985e-01\\nEpoch [62/150], Train Loss: 1.3638e-05, Train Accuracy: 9.9987e-01, Test Loss: 3.1058e-05, Test Accuracy: 9.9986e-01\\nEpoch [63/150], Train Loss: 1.3609e-05, Train Accuracy: 9.9987e-01, Test Loss: 3.1187e-05, Test Accuracy: 9.9985e-01\\nEpoch [64/150], Train Loss: 1.3380e-05, Train Accuracy: 9.9987e-01, Test Loss: 3.1848e-05, Test Accuracy: 9.9985e-01\\nEpoch [65/150], Train Loss: 1.3192e-05, Train Accuracy: 9.9987e-01, Test Loss: 3.1074e-05, Test Accuracy: 9.9986e-01\\nEpoch [66/150], Train Loss: 1.2995e-05, Train Accuracy: 9.9987e-01, Test Loss: 3.1184e-05, Test Accuracy: 9.9985e-01\\nEpoch [67/150], Train Loss: 1.3065e-05, Train Accuracy: 9.9987e-01, Test Loss: 3.1269e-05, Test Accuracy: 9.9985e-01\\nEpoch [68/150], Train Loss: 1.2793e-05, Train Accuracy: 9.9987e-01, Test Loss: 3.1186e-05, Test Accuracy: 9.9985e-01\\nEpoch [69/150], Train Loss: 1.2759e-05, Train Accuracy: 9.9987e-01, Test Loss: 3.1008e-05, Test Accuracy: 9.9985e-01\\nEpoch [70/150], Train Loss: 1.2680e-05, Train Accuracy: 9.9987e-01, Test Loss: 3.1468e-05, Test Accuracy: 9.9985e-01\\nEpoch [71/150], Train Loss: 1.2504e-05, Train Accuracy: 9.9987e-01, Test Loss: 3.0819e-05, Test Accuracy: 9.9985e-01\\nEpoch [72/150], Train Loss: 1.2496e-05, Train Accuracy: 9.9987e-01, Test Loss: 3.0984e-05, Test Accuracy: 9.9985e-01\\nEpoch [73/150], Train Loss: 1.2277e-05, Train Accuracy: 9.9987e-01, Test Loss: 3.0979e-05, Test Accuracy: 9.9985e-01\\nEpoch [74/150], Train Loss: 1.1938e-05, Train Accuracy: 9.9987e-01, Test Loss: 3.0573e-05, Test Accuracy: 9.9986e-01\\nEpoch [75/150], Train Loss: 1.1949e-05, Train Accuracy: 9.9987e-01, Test Loss: 3.1893e-05, Test Accuracy: 9.9985e-01\\nEpoch [76/150], Train Loss: 1.2084e-05, Train Accuracy: 9.9987e-01, Test Loss: 3.0808e-05, Test Accuracy: 9.9985e-01\\nEpoch [77/150], Train Loss: 1.2039e-05, Train Accuracy: 9.9987e-01, Test Loss: 3.1513e-05, Test Accuracy: 9.9985e-01\\nEpoch [78/150], Train Loss: 1.1896e-05, Train Accuracy: 9.9987e-01, Test Loss: 3.1652e-05, Test Accuracy: 9.9985e-01\\nEpoch [79/150], Train Loss: 1.1724e-05, Train Accuracy: 9.9987e-01, Test Loss: 3.1048e-05, Test Accuracy: 9.9985e-01\\nEpoch [80/150], Train Loss: 1.1613e-05, Train Accuracy: 9.9987e-01, Test Loss: 3.0953e-05, Test Accuracy: 9.9985e-01\\nEpoch [81/150], Train Loss: 1.1427e-05, Train Accuracy: 9.9987e-01, Test Loss: 3.0289e-05, Test Accuracy: 9.9986e-01\\nEpoch [82/150], Train Loss: 1.1335e-05, Train Accuracy: 9.9987e-01, Test Loss: 3.1204e-05, Test Accuracy: 9.9985e-01\\nEpoch [83/150], Train Loss: 1.1398e-05, Train Accuracy: 9.9987e-01, Test Loss: 3.0863e-05, Test Accuracy: 9.9985e-01\\nEpoch [84/150], Train Loss: 1.1593e-05, Train Accuracy: 9.9987e-01, Test Loss: 3.1026e-05, Test Accuracy: 9.9985e-01\\nEpoch [85/150], Train Loss: 1.1352e-05, Train Accuracy: 9.9987e-01, Test Loss: 3.0249e-05, Test Accuracy: 9.9985e-01\\nEpoch [86/150], Train Loss: 1.1031e-05, Train Accuracy: 9.9987e-01, Test Loss: 3.0276e-05, Test Accuracy: 9.9985e-01\\nEpoch [87/150], Train Loss: 1.0752e-05, Train Accuracy: 9.9987e-01, Test Loss: 3.0334e-05, Test Accuracy: 9.9985e-01\\nEpoch [88/150], Train Loss: 1.0747e-05, Train Accuracy: 9.9987e-01, Test Loss: 3.1036e-05, Test Accuracy: 9.9985e-01\\nEpoch [89/150], Train Loss: 1.1082e-05, Train Accuracy: 9.9987e-01, Test Loss: 3.0913e-05, Test Accuracy: 9.9985e-01\\nEpoch [90/150], Train Loss: 1.0770e-05, Train Accuracy: 9.9987e-01, Test Loss: 3.0715e-05, Test Accuracy: 9.9985e-01\\nEpoch [91/150], Train Loss: 1.0764e-05, Train Accuracy: 9.9987e-01, Test Loss: 3.0487e-05, Test Accuracy: 9.9985e-01\\nEpoch [92/150], Train Loss: 1.0494e-05, Train Accuracy: 9.9987e-01, Test Loss: 3.0697e-05, Test Accuracy: 9.9985e-01\\nEpoch [93/150], Train Loss: 1.0759e-05, Train Accuracy: 9.9987e-01, Test Loss: 3.0167e-05, Test Accuracy: 9.9985e-01\\nEpoch [94/150], Train Loss: 1.0523e-05, Train Accuracy: 9.9987e-01, Test Loss: 3.0660e-05, Test Accuracy: 9.9985e-01\\nEpoch [95/150], Train Loss: 1.0531e-05, Train Accuracy: 9.9987e-01, Test Loss: 3.0409e-05, Test Accuracy: 9.9985e-01\\nEpoch [96/150], Train Loss: 1.0200e-05, Train Accuracy: 9.9987e-01, Test Loss: 3.0406e-05, Test Accuracy: 9.9985e-01\\nEpoch [97/150], Train Loss: 1.0216e-05, Train Accuracy: 9.9987e-01, Test Loss: 3.0872e-05, Test Accuracy: 9.9985e-01\\nEpoch [98/150], Train Loss: 1.0382e-05, Train Accuracy: 9.9987e-01, Test Loss: 3.1179e-05, Test Accuracy: 9.9985e-01\\nEpoch [99/150], Train Loss: 1.0310e-05, Train Accuracy: 9.9987e-01, Test Loss: 3.0603e-05, Test Accuracy: 9.9985e-01\\nEpoch [100/150], Train Loss: 9.9299e-06, Train Accuracy: 9.9987e-01, Test Loss: 3.0775e-05, Test Accuracy: 9.9985e-01\\nEpoch [101/150], Train Loss: 9.8963e-06, Train Accuracy: 9.9987e-01, Test Loss: 3.0091e-05, Test Accuracy: 9.9985e-01\\nEpoch [102/150], Train Loss: 9.7096e-06, Train Accuracy: 9.9987e-01, Test Loss: 3.0284e-05, Test Accuracy: 9.9985e-01\\nEpoch [103/150], Train Loss: 9.9809e-06, Train Accuracy: 9.9987e-01, Test Loss: 2.9910e-05, Test Accuracy: 9.9985e-01\\nEpoch [104/150], Train Loss: 9.7808e-06, Train Accuracy: 9.9987e-01, Test Loss: 2.9985e-05, Test Accuracy: 9.9985e-01\\nEpoch [105/150], Train Loss: 9.5589e-06, Train Accuracy: 9.9987e-01, Test Loss: 2.9880e-05, Test Accuracy: 9.9985e-01\\nEpoch [106/150], Train Loss: 9.7276e-06, Train Accuracy: 9.9987e-01, Test Loss: 3.1151e-05, Test Accuracy: 9.9985e-01\\nEpoch [107/150], Train Loss: 9.9630e-06, Train Accuracy: 9.9987e-01, Test Loss: 3.0387e-05, Test Accuracy: 9.9985e-01\\nEpoch [108/150], Train Loss: 9.4476e-06, Train Accuracy: 9.9987e-01, Test Loss: 3.0546e-05, Test Accuracy: 9.9985e-01\\nEpoch [109/150], Train Loss: 9.2774e-06, Train Accuracy: 9.9987e-01, Test Loss: 3.0216e-05, Test Accuracy: 9.9985e-01\\nEpoch [110/150], Train Loss: 9.3271e-06, Train Accuracy: 9.9987e-01, Test Loss: 3.0126e-05, Test Accuracy: 9.9985e-01\\nEpoch [111/150], Train Loss: 9.3859e-06, Train Accuracy: 9.9987e-01, Test Loss: 3.1123e-05, Test Accuracy: 9.9985e-01\\nEpoch [112/150], Train Loss: 9.4747e-06, Train Accuracy: 9.9987e-01, Test Loss: 3.0524e-05, Test Accuracy: 9.9985e-01\\nEpoch [113/150], Train Loss: 9.1749e-06, Train Accuracy: 9.9987e-01, Test Loss: 2.9941e-05, Test Accuracy: 9.9985e-01\\nEpoch [114/150], Train Loss: 9.0409e-06, Train Accuracy: 9.9987e-01, Test Loss: 3.0655e-05, Test Accuracy: 9.9985e-01\\nEpoch [115/150], Train Loss: 9.0128e-06, Train Accuracy: 9.9987e-01, Test Loss: 3.0173e-05, Test Accuracy: 9.9985e-01\\nEpoch 00116: reducing learning rate of group 0 to 1.0000e-05.\\nEpoch [116/150], Train Loss: 8.9710e-06, Train Accuracy: 9.9987e-01, Test Loss: 3.0280e-05, Test Accuracy: 9.9985e-01\\nEpoch [117/150], Train Loss: 8.2868e-06, Train Accuracy: 9.9987e-01, Test Loss: 2.9146e-05, Test Accuracy: 9.9985e-01\\nEpoch [118/150], Train Loss: 8.1040e-06, Train Accuracy: 9.9987e-01, Test Loss: 2.9180e-05, Test Accuracy: 9.9985e-01\\nEpoch [119/150], Train Loss: 8.0435e-06, Train Accuracy: 9.9987e-01, Test Loss: 2.9027e-05, Test Accuracy: 9.9986e-01\\nEpoch [120/150], Train Loss: 7.9984e-06, Train Accuracy: 9.9987e-01, Test Loss: 2.9020e-05, Test Accuracy: 9.9986e-01\\nEpoch [121/150], Train Loss: 7.9614e-06, Train Accuracy: 9.9987e-01, Test Loss: 2.8941e-05, Test Accuracy: 9.9986e-01\\nEpoch [122/150], Train Loss: 7.9307e-06, Train Accuracy: 9.9987e-01, Test Loss: 2.8988e-05, Test Accuracy: 9.9986e-01\\nEpoch [123/150], Train Loss: 7.9029e-06, Train Accuracy: 9.9987e-01, Test Loss: 2.8951e-05, Test Accuracy: 9.9986e-01\\nEpoch [124/150], Train Loss: 7.8779e-06, Train Accuracy: 9.9987e-01, Test Loss: 2.9015e-05, Test Accuracy: 9.9986e-01\\nEpoch [125/150], Train Loss: 7.8529e-06, Train Accuracy: 9.9987e-01, Test Loss: 2.8921e-05, Test Accuracy: 9.9986e-01\\nEpoch [126/150], Train Loss: 7.8304e-06, Train Accuracy: 9.9987e-01, Test Loss: 2.8898e-05, Test Accuracy: 9.9986e-01\\nEpoch [127/150], Train Loss: 7.8073e-06, Train Accuracy: 9.9987e-01, Test Loss: 2.8947e-05, Test Accuracy: 9.9986e-01\\nEpoch [128/150], Train Loss: 7.7892e-06, Train Accuracy: 9.9987e-01, Test Loss: 2.8904e-05, Test Accuracy: 9.9986e-01\\nEpoch [129/150], Train Loss: 7.7676e-06, Train Accuracy: 9.9987e-01, Test Loss: 2.8983e-05, Test Accuracy: 9.9986e-01\\nEpoch [130/150], Train Loss: 7.7498e-06, Train Accuracy: 9.9987e-01, Test Loss: 2.9002e-05, Test Accuracy: 9.9986e-01\\nEpoch [131/150], Train Loss: 7.7314e-06, Train Accuracy: 9.9987e-01, Test Loss: 2.8975e-05, Test Accuracy: 9.9986e-01\\nEpoch [132/150], Train Loss: 7.7144e-06, Train Accuracy: 9.9987e-01, Test Loss: 2.8941e-05, Test Accuracy: 9.9986e-01\\nEpoch [133/150], Train Loss: 7.6969e-06, Train Accuracy: 9.9987e-01, Test Loss: 2.8923e-05, Test Accuracy: 9.9986e-01\\nEpoch [134/150], Train Loss: 7.6802e-06, Train Accuracy: 9.9987e-01, Test Loss: 2.8950e-05, Test Accuracy: 9.9986e-01\\nEpoch [135/150], Train Loss: 7.6654e-06, Train Accuracy: 9.9987e-01, Test Loss: 2.9012e-05, Test Accuracy: 9.9986e-01\\nEpoch [136/150], Train Loss: 7.6482e-06, Train Accuracy: 9.9987e-01, Test Loss: 2.8887e-05, Test Accuracy: 9.9986e-01\\nEpoch [137/150], Train Loss: 7.6323e-06, Train Accuracy: 9.9987e-01, Test Loss: 2.8977e-05, Test Accuracy: 9.9986e-01\\nEpoch [138/150], Train Loss: 7.6166e-06, Train Accuracy: 9.9987e-01, Test Loss: 2.8951e-05, Test Accuracy: 9.9986e-01\\nEpoch [139/150], Train Loss: 7.6028e-06, Train Accuracy: 9.9987e-01, Test Loss: 2.8961e-05, Test Accuracy: 9.9986e-01\\nEpoch [140/150], Train Loss: 7.5874e-06, Train Accuracy: 9.9987e-01, Test Loss: 2.8923e-05, Test Accuracy: 9.9986e-01\\nEpoch [141/150], Train Loss: 7.5728e-06, Train Accuracy: 9.9987e-01, Test Loss: 2.8916e-05, Test Accuracy: 9.9986e-01\\nEpoch [142/150], Train Loss: 7.5573e-06, Train Accuracy: 9.9987e-01, Test Loss: 2.8934e-05, Test Accuracy: 9.9986e-01\\nEpoch [143/150], Train Loss: 7.5444e-06, Train Accuracy: 9.9987e-01, Test Loss: 2.8884e-05, Test Accuracy: 9.9986e-01\\nEpoch [144/150], Train Loss: 7.5298e-06, Train Accuracy: 9.9987e-01, Test Loss: 2.8896e-05, Test Accuracy: 9.9986e-01\\nEpoch [145/150], Train Loss: 7.5164e-06, Train Accuracy: 9.9987e-01, Test Loss: 2.9005e-05, Test Accuracy: 9.9986e-01\\nEpoch [146/150], Train Loss: 7.5020e-06, Train Accuracy: 9.9987e-01, Test Loss: 2.8941e-05, Test Accuracy: 9.9986e-01\\nEpoch [147/150], Train Loss: 7.4903e-06, Train Accuracy: 9.9987e-01, Test Loss: 2.8938e-05, Test Accuracy: 9.9986e-01\\nEpoch [148/150], Train Loss: 7.4772e-06, Train Accuracy: 9.9987e-01, Test Loss: 2.8941e-05, Test Accuracy: 9.9986e-01\\nEpoch [149/150], Train Loss: 7.4633e-06, Train Accuracy: 9.9987e-01, Test Loss: 2.8967e-05, Test Accuracy: 9.9986e-01\\nEpoch [150/150], Train Loss: 7.4500e-06, Train Accuracy: 9.9987e-01, Test Loss: 2.8918e-05, Test Accuracy: 9.9986e-01\\n'"
      ]
     },
     "execution_count": 11,
     "metadata": {},
     "output_type": "execute_result"
    }
   ],
   "source": [
    "\"\"\"\n",
    "Previous calculations (for reference)\n",
    "Epoch [1/150], Train Loss: 9.6550e-05, Train Accuracy: 9.9985e-01, Test Loss: 6.8493e-05, Test Accuracy: 9.9985e-01\n",
    "Epoch [2/150], Train Loss: 6.2372e-05, Train Accuracy: 9.9985e-01, Test Loss: 5.7504e-05, Test Accuracy: 9.9985e-01\n",
    "Epoch [3/150], Train Loss: 5.6080e-05, Train Accuracy: 9.9985e-01, Test Loss: 5.4564e-05, Test Accuracy: 9.9985e-01\n",
    "Epoch [4/150], Train Loss: 5.3825e-05, Train Accuracy: 9.9985e-01, Test Loss: 5.2685e-05, Test Accuracy: 9.9985e-01\n",
    "Epoch [5/150], Train Loss: 5.1890e-05, Train Accuracy: 9.9985e-01, Test Loss: 5.1442e-05, Test Accuracy: 9.9985e-01\n",
    "Epoch [6/150], Train Loss: 5.0032e-05, Train Accuracy: 9.9986e-01, Test Loss: 4.9427e-05, Test Accuracy: 9.9986e-01\n",
    "Epoch [7/150], Train Loss: 4.8292e-05, Train Accuracy: 9.9986e-01, Test Loss: 4.8010e-05, Test Accuracy: 9.9986e-01\n",
    "Epoch [8/150], Train Loss: 4.6743e-05, Train Accuracy: 9.9986e-01, Test Loss: 4.6832e-05, Test Accuracy: 9.9986e-01\n",
    "Epoch [9/150], Train Loss: 4.5315e-05, Train Accuracy: 9.9986e-01, Test Loss: 4.5950e-05, Test Accuracy: 9.9986e-01\n",
    "Epoch [10/150], Train Loss: 4.4142e-05, Train Accuracy: 9.9986e-01, Test Loss: 4.5145e-05, Test Accuracy: 9.9986e-01\n",
    "Epoch [11/150], Train Loss: 4.2904e-05, Train Accuracy: 9.9986e-01, Test Loss: 4.5094e-05, Test Accuracy: 9.9986e-01\n",
    "Epoch [12/150], Train Loss: 4.1798e-05, Train Accuracy: 9.9986e-01, Test Loss: 4.3660e-05, Test Accuracy: 9.9986e-01\n",
    "Epoch [13/150], Train Loss: 4.0616e-05, Train Accuracy: 9.9986e-01, Test Loss: 4.3405e-05, Test Accuracy: 9.9986e-01\n",
    "Epoch [14/150], Train Loss: 3.9574e-05, Train Accuracy: 9.9986e-01, Test Loss: 4.3165e-05, Test Accuracy: 9.9985e-01\n",
    "Epoch [15/150], Train Loss: 3.8620e-05, Train Accuracy: 9.9986e-01, Test Loss: 4.2157e-05, Test Accuracy: 9.9986e-01\n",
    "Epoch [16/150], Train Loss: 3.7576e-05, Train Accuracy: 9.9986e-01, Test Loss: 4.1611e-05, Test Accuracy: 9.9986e-01\n",
    "Epoch [17/150], Train Loss: 3.6520e-05, Train Accuracy: 9.9986e-01, Test Loss: 4.1262e-05, Test Accuracy: 9.9986e-01\n",
    "Epoch [18/150], Train Loss: 3.5375e-05, Train Accuracy: 9.9986e-01, Test Loss: 4.0302e-05, Test Accuracy: 9.9986e-01\n",
    "Epoch [19/150], Train Loss: 3.4478e-05, Train Accuracy: 9.9986e-01, Test Loss: 4.0089e-05, Test Accuracy: 9.9986e-01\n",
    "Epoch [20/150], Train Loss: 3.3428e-05, Train Accuracy: 9.9986e-01, Test Loss: 3.9610e-05, Test Accuracy: 9.9986e-01\n",
    "Epoch [21/150], Train Loss: 3.2375e-05, Train Accuracy: 9.9986e-01, Test Loss: 3.9052e-05, Test Accuracy: 9.9985e-01\n",
    "Epoch [22/150], Train Loss: 3.1362e-05, Train Accuracy: 9.9986e-01, Test Loss: 3.8028e-05, Test Accuracy: 9.9986e-01\n",
    "Epoch [23/150], Train Loss: 3.0484e-05, Train Accuracy: 9.9986e-01, Test Loss: 3.7585e-05, Test Accuracy: 9.9986e-01\n",
    "Epoch [24/150], Train Loss: 2.9513e-05, Train Accuracy: 9.9986e-01, Test Loss: 3.7242e-05, Test Accuracy: 9.9986e-01\n",
    "Epoch [25/150], Train Loss: 2.8593e-05, Train Accuracy: 9.9986e-01, Test Loss: 3.6637e-05, Test Accuracy: 9.9986e-01\n",
    "Epoch [26/150], Train Loss: 2.7806e-05, Train Accuracy: 9.9986e-01, Test Loss: 3.6507e-05, Test Accuracy: 9.9986e-01\n",
    "Epoch [27/150], Train Loss: 2.6880e-05, Train Accuracy: 9.9986e-01, Test Loss: 3.5971e-05, Test Accuracy: 9.9986e-01\n",
    "Epoch [28/150], Train Loss: 2.6044e-05, Train Accuracy: 9.9986e-01, Test Loss: 3.6201e-05, Test Accuracy: 9.9985e-01\n",
    "Epoch [29/150], Train Loss: 2.5260e-05, Train Accuracy: 9.9986e-01, Test Loss: 3.5567e-05, Test Accuracy: 9.9986e-01\n",
    "Epoch [30/150], Train Loss: 2.4562e-05, Train Accuracy: 9.9986e-01, Test Loss: 3.5129e-05, Test Accuracy: 9.9986e-01\n",
    "Epoch [31/150], Train Loss: 2.3797e-05, Train Accuracy: 9.9986e-01, Test Loss: 3.4897e-05, Test Accuracy: 9.9986e-01\n",
    "Epoch [32/150], Train Loss: 2.3170e-05, Train Accuracy: 9.9986e-01, Test Loss: 3.4570e-05, Test Accuracy: 9.9986e-01\n",
    "Epoch [33/150], Train Loss: 2.2472e-05, Train Accuracy: 9.9986e-01, Test Loss: 3.4141e-05, Test Accuracy: 9.9986e-01\n",
    "Epoch [34/150], Train Loss: 2.1862e-05, Train Accuracy: 9.9986e-01, Test Loss: 3.4036e-05, Test Accuracy: 9.9986e-01\n",
    "Epoch [35/150], Train Loss: 2.1338e-05, Train Accuracy: 9.9987e-01, Test Loss: 3.3829e-05, Test Accuracy: 9.9986e-01\n",
    "Epoch [36/150], Train Loss: 2.0743e-05, Train Accuracy: 9.9987e-01, Test Loss: 3.3495e-05, Test Accuracy: 9.9986e-01\n",
    "Epoch [37/150], Train Loss: 2.0184e-05, Train Accuracy: 9.9987e-01, Test Loss: 3.3897e-05, Test Accuracy: 9.9985e-01\n",
    "Epoch [38/150], Train Loss: 1.9713e-05, Train Accuracy: 9.9987e-01, Test Loss: 3.3118e-05, Test Accuracy: 9.9986e-01\n",
    "Epoch [39/150], Train Loss: 1.9191e-05, Train Accuracy: 9.9987e-01, Test Loss: 3.3106e-05, Test Accuracy: 9.9986e-01\n",
    "Epoch [40/150], Train Loss: 1.8873e-05, Train Accuracy: 9.9987e-01, Test Loss: 3.2706e-05, Test Accuracy: 9.9986e-01\n",
    "Epoch [41/150], Train Loss: 1.8462e-05, Train Accuracy: 9.9987e-01, Test Loss: 3.3611e-05, Test Accuracy: 9.9985e-01\n",
    "Epoch [42/150], Train Loss: 1.8072e-05, Train Accuracy: 9.9987e-01, Test Loss: 3.2320e-05, Test Accuracy: 9.9986e-01\n",
    "Epoch [43/150], Train Loss: 1.7508e-05, Train Accuracy: 9.9987e-01, Test Loss: 3.2661e-05, Test Accuracy: 9.9986e-01\n",
    "Epoch [44/150], Train Loss: 1.7336e-05, Train Accuracy: 9.9987e-01, Test Loss: 3.2449e-05, Test Accuracy: 9.9986e-01\n",
    "Epoch [45/150], Train Loss: 1.7115e-05, Train Accuracy: 9.9987e-01, Test Loss: 3.2052e-05, Test Accuracy: 9.9986e-01\n",
    "Epoch [46/150], Train Loss: 1.6764e-05, Train Accuracy: 9.9987e-01, Test Loss: 3.1909e-05, Test Accuracy: 9.9986e-01\n",
    "Epoch [47/150], Train Loss: 1.6379e-05, Train Accuracy: 9.9987e-01, Test Loss: 3.2104e-05, Test Accuracy: 9.9986e-01\n",
    "Epoch [48/150], Train Loss: 1.6203e-05, Train Accuracy: 9.9987e-01, Test Loss: 3.2198e-05, Test Accuracy: 9.9986e-01\n",
    "Epoch [49/150], Train Loss: 1.5852e-05, Train Accuracy: 9.9987e-01, Test Loss: 3.1965e-05, Test Accuracy: 9.9986e-01\n",
    "Epoch [50/150], Train Loss: 1.5773e-05, Train Accuracy: 9.9987e-01, Test Loss: 3.1726e-05, Test Accuracy: 9.9986e-01\n",
    "Epoch [51/150], Train Loss: 1.5542e-05, Train Accuracy: 9.9987e-01, Test Loss: 3.2133e-05, Test Accuracy: 9.9985e-01\n",
    "Epoch [52/150], Train Loss: 1.5135e-05, Train Accuracy: 9.9987e-01, Test Loss: 3.2366e-05, Test Accuracy: 9.9985e-01\n",
    "Epoch [53/150], Train Loss: 1.5042e-05, Train Accuracy: 9.9987e-01, Test Loss: 3.1448e-05, Test Accuracy: 9.9986e-01\n",
    "Epoch [54/150], Train Loss: 1.4921e-05, Train Accuracy: 9.9987e-01, Test Loss: 3.1801e-05, Test Accuracy: 9.9985e-01\n",
    "Epoch [55/150], Train Loss: 1.4630e-05, Train Accuracy: 9.9987e-01, Test Loss: 3.2520e-05, Test Accuracy: 9.9985e-01\n",
    "Epoch [56/150], Train Loss: 1.4566e-05, Train Accuracy: 9.9987e-01, Test Loss: 3.2106e-05, Test Accuracy: 9.9985e-01\n",
    "Epoch [57/150], Train Loss: 1.4428e-05, Train Accuracy: 9.9987e-01, Test Loss: 3.1513e-05, Test Accuracy: 9.9986e-01\n",
    "Epoch [58/150], Train Loss: 1.4053e-05, Train Accuracy: 9.9987e-01, Test Loss: 3.1165e-05, Test Accuracy: 9.9986e-01\n",
    "Epoch [59/150], Train Loss: 1.4010e-05, Train Accuracy: 9.9987e-01, Test Loss: 3.1603e-05, Test Accuracy: 9.9985e-01\n",
    "Epoch [60/150], Train Loss: 1.3802e-05, Train Accuracy: 9.9987e-01, Test Loss: 3.2295e-05, Test Accuracy: 9.9985e-01\n",
    "Epoch [61/150], Train Loss: 1.3632e-05, Train Accuracy: 9.9987e-01, Test Loss: 3.1812e-05, Test Accuracy: 9.9985e-01\n",
    "Epoch [62/150], Train Loss: 1.3638e-05, Train Accuracy: 9.9987e-01, Test Loss: 3.1058e-05, Test Accuracy: 9.9986e-01\n",
    "Epoch [63/150], Train Loss: 1.3609e-05, Train Accuracy: 9.9987e-01, Test Loss: 3.1187e-05, Test Accuracy: 9.9985e-01\n",
    "Epoch [64/150], Train Loss: 1.3380e-05, Train Accuracy: 9.9987e-01, Test Loss: 3.1848e-05, Test Accuracy: 9.9985e-01\n",
    "Epoch [65/150], Train Loss: 1.3192e-05, Train Accuracy: 9.9987e-01, Test Loss: 3.1074e-05, Test Accuracy: 9.9986e-01\n",
    "Epoch [66/150], Train Loss: 1.2995e-05, Train Accuracy: 9.9987e-01, Test Loss: 3.1184e-05, Test Accuracy: 9.9985e-01\n",
    "Epoch [67/150], Train Loss: 1.3065e-05, Train Accuracy: 9.9987e-01, Test Loss: 3.1269e-05, Test Accuracy: 9.9985e-01\n",
    "Epoch [68/150], Train Loss: 1.2793e-05, Train Accuracy: 9.9987e-01, Test Loss: 3.1186e-05, Test Accuracy: 9.9985e-01\n",
    "Epoch [69/150], Train Loss: 1.2759e-05, Train Accuracy: 9.9987e-01, Test Loss: 3.1008e-05, Test Accuracy: 9.9985e-01\n",
    "Epoch [70/150], Train Loss: 1.2680e-05, Train Accuracy: 9.9987e-01, Test Loss: 3.1468e-05, Test Accuracy: 9.9985e-01\n",
    "Epoch [71/150], Train Loss: 1.2504e-05, Train Accuracy: 9.9987e-01, Test Loss: 3.0819e-05, Test Accuracy: 9.9985e-01\n",
    "Epoch [72/150], Train Loss: 1.2496e-05, Train Accuracy: 9.9987e-01, Test Loss: 3.0984e-05, Test Accuracy: 9.9985e-01\n",
    "Epoch [73/150], Train Loss: 1.2277e-05, Train Accuracy: 9.9987e-01, Test Loss: 3.0979e-05, Test Accuracy: 9.9985e-01\n",
    "Epoch [74/150], Train Loss: 1.1938e-05, Train Accuracy: 9.9987e-01, Test Loss: 3.0573e-05, Test Accuracy: 9.9986e-01\n",
    "Epoch [75/150], Train Loss: 1.1949e-05, Train Accuracy: 9.9987e-01, Test Loss: 3.1893e-05, Test Accuracy: 9.9985e-01\n",
    "Epoch [76/150], Train Loss: 1.2084e-05, Train Accuracy: 9.9987e-01, Test Loss: 3.0808e-05, Test Accuracy: 9.9985e-01\n",
    "Epoch [77/150], Train Loss: 1.2039e-05, Train Accuracy: 9.9987e-01, Test Loss: 3.1513e-05, Test Accuracy: 9.9985e-01\n",
    "Epoch [78/150], Train Loss: 1.1896e-05, Train Accuracy: 9.9987e-01, Test Loss: 3.1652e-05, Test Accuracy: 9.9985e-01\n",
    "Epoch [79/150], Train Loss: 1.1724e-05, Train Accuracy: 9.9987e-01, Test Loss: 3.1048e-05, Test Accuracy: 9.9985e-01\n",
    "Epoch [80/150], Train Loss: 1.1613e-05, Train Accuracy: 9.9987e-01, Test Loss: 3.0953e-05, Test Accuracy: 9.9985e-01\n",
    "Epoch [81/150], Train Loss: 1.1427e-05, Train Accuracy: 9.9987e-01, Test Loss: 3.0289e-05, Test Accuracy: 9.9986e-01\n",
    "Epoch [82/150], Train Loss: 1.1335e-05, Train Accuracy: 9.9987e-01, Test Loss: 3.1204e-05, Test Accuracy: 9.9985e-01\n",
    "Epoch [83/150], Train Loss: 1.1398e-05, Train Accuracy: 9.9987e-01, Test Loss: 3.0863e-05, Test Accuracy: 9.9985e-01\n",
    "Epoch [84/150], Train Loss: 1.1593e-05, Train Accuracy: 9.9987e-01, Test Loss: 3.1026e-05, Test Accuracy: 9.9985e-01\n",
    "Epoch [85/150], Train Loss: 1.1352e-05, Train Accuracy: 9.9987e-01, Test Loss: 3.0249e-05, Test Accuracy: 9.9985e-01\n",
    "Epoch [86/150], Train Loss: 1.1031e-05, Train Accuracy: 9.9987e-01, Test Loss: 3.0276e-05, Test Accuracy: 9.9985e-01\n",
    "Epoch [87/150], Train Loss: 1.0752e-05, Train Accuracy: 9.9987e-01, Test Loss: 3.0334e-05, Test Accuracy: 9.9985e-01\n",
    "Epoch [88/150], Train Loss: 1.0747e-05, Train Accuracy: 9.9987e-01, Test Loss: 3.1036e-05, Test Accuracy: 9.9985e-01\n",
    "Epoch [89/150], Train Loss: 1.1082e-05, Train Accuracy: 9.9987e-01, Test Loss: 3.0913e-05, Test Accuracy: 9.9985e-01\n",
    "Epoch [90/150], Train Loss: 1.0770e-05, Train Accuracy: 9.9987e-01, Test Loss: 3.0715e-05, Test Accuracy: 9.9985e-01\n",
    "Epoch [91/150], Train Loss: 1.0764e-05, Train Accuracy: 9.9987e-01, Test Loss: 3.0487e-05, Test Accuracy: 9.9985e-01\n",
    "Epoch [92/150], Train Loss: 1.0494e-05, Train Accuracy: 9.9987e-01, Test Loss: 3.0697e-05, Test Accuracy: 9.9985e-01\n",
    "Epoch [93/150], Train Loss: 1.0759e-05, Train Accuracy: 9.9987e-01, Test Loss: 3.0167e-05, Test Accuracy: 9.9985e-01\n",
    "Epoch [94/150], Train Loss: 1.0523e-05, Train Accuracy: 9.9987e-01, Test Loss: 3.0660e-05, Test Accuracy: 9.9985e-01\n",
    "Epoch [95/150], Train Loss: 1.0531e-05, Train Accuracy: 9.9987e-01, Test Loss: 3.0409e-05, Test Accuracy: 9.9985e-01\n",
    "Epoch [96/150], Train Loss: 1.0200e-05, Train Accuracy: 9.9987e-01, Test Loss: 3.0406e-05, Test Accuracy: 9.9985e-01\n",
    "Epoch [97/150], Train Loss: 1.0216e-05, Train Accuracy: 9.9987e-01, Test Loss: 3.0872e-05, Test Accuracy: 9.9985e-01\n",
    "Epoch [98/150], Train Loss: 1.0382e-05, Train Accuracy: 9.9987e-01, Test Loss: 3.1179e-05, Test Accuracy: 9.9985e-01\n",
    "Epoch [99/150], Train Loss: 1.0310e-05, Train Accuracy: 9.9987e-01, Test Loss: 3.0603e-05, Test Accuracy: 9.9985e-01\n",
    "Epoch [100/150], Train Loss: 9.9299e-06, Train Accuracy: 9.9987e-01, Test Loss: 3.0775e-05, Test Accuracy: 9.9985e-01\n",
    "Epoch [101/150], Train Loss: 9.8963e-06, Train Accuracy: 9.9987e-01, Test Loss: 3.0091e-05, Test Accuracy: 9.9985e-01\n",
    "Epoch [102/150], Train Loss: 9.7096e-06, Train Accuracy: 9.9987e-01, Test Loss: 3.0284e-05, Test Accuracy: 9.9985e-01\n",
    "Epoch [103/150], Train Loss: 9.9809e-06, Train Accuracy: 9.9987e-01, Test Loss: 2.9910e-05, Test Accuracy: 9.9985e-01\n",
    "Epoch [104/150], Train Loss: 9.7808e-06, Train Accuracy: 9.9987e-01, Test Loss: 2.9985e-05, Test Accuracy: 9.9985e-01\n",
    "Epoch [105/150], Train Loss: 9.5589e-06, Train Accuracy: 9.9987e-01, Test Loss: 2.9880e-05, Test Accuracy: 9.9985e-01\n",
    "Epoch [106/150], Train Loss: 9.7276e-06, Train Accuracy: 9.9987e-01, Test Loss: 3.1151e-05, Test Accuracy: 9.9985e-01\n",
    "Epoch [107/150], Train Loss: 9.9630e-06, Train Accuracy: 9.9987e-01, Test Loss: 3.0387e-05, Test Accuracy: 9.9985e-01\n",
    "Epoch [108/150], Train Loss: 9.4476e-06, Train Accuracy: 9.9987e-01, Test Loss: 3.0546e-05, Test Accuracy: 9.9985e-01\n",
    "Epoch [109/150], Train Loss: 9.2774e-06, Train Accuracy: 9.9987e-01, Test Loss: 3.0216e-05, Test Accuracy: 9.9985e-01\n",
    "Epoch [110/150], Train Loss: 9.3271e-06, Train Accuracy: 9.9987e-01, Test Loss: 3.0126e-05, Test Accuracy: 9.9985e-01\n",
    "Epoch [111/150], Train Loss: 9.3859e-06, Train Accuracy: 9.9987e-01, Test Loss: 3.1123e-05, Test Accuracy: 9.9985e-01\n",
    "Epoch [112/150], Train Loss: 9.4747e-06, Train Accuracy: 9.9987e-01, Test Loss: 3.0524e-05, Test Accuracy: 9.9985e-01\n",
    "Epoch [113/150], Train Loss: 9.1749e-06, Train Accuracy: 9.9987e-01, Test Loss: 2.9941e-05, Test Accuracy: 9.9985e-01\n",
    "Epoch [114/150], Train Loss: 9.0409e-06, Train Accuracy: 9.9987e-01, Test Loss: 3.0655e-05, Test Accuracy: 9.9985e-01\n",
    "Epoch [115/150], Train Loss: 9.0128e-06, Train Accuracy: 9.9987e-01, Test Loss: 3.0173e-05, Test Accuracy: 9.9985e-01\n",
    "Epoch 00116: reducing learning rate of group 0 to 1.0000e-05.\n",
    "Epoch [116/150], Train Loss: 8.9710e-06, Train Accuracy: 9.9987e-01, Test Loss: 3.0280e-05, Test Accuracy: 9.9985e-01\n",
    "Epoch [117/150], Train Loss: 8.2868e-06, Train Accuracy: 9.9987e-01, Test Loss: 2.9146e-05, Test Accuracy: 9.9985e-01\n",
    "Epoch [118/150], Train Loss: 8.1040e-06, Train Accuracy: 9.9987e-01, Test Loss: 2.9180e-05, Test Accuracy: 9.9985e-01\n",
    "Epoch [119/150], Train Loss: 8.0435e-06, Train Accuracy: 9.9987e-01, Test Loss: 2.9027e-05, Test Accuracy: 9.9986e-01\n",
    "Epoch [120/150], Train Loss: 7.9984e-06, Train Accuracy: 9.9987e-01, Test Loss: 2.9020e-05, Test Accuracy: 9.9986e-01\n",
    "Epoch [121/150], Train Loss: 7.9614e-06, Train Accuracy: 9.9987e-01, Test Loss: 2.8941e-05, Test Accuracy: 9.9986e-01\n",
    "Epoch [122/150], Train Loss: 7.9307e-06, Train Accuracy: 9.9987e-01, Test Loss: 2.8988e-05, Test Accuracy: 9.9986e-01\n",
    "Epoch [123/150], Train Loss: 7.9029e-06, Train Accuracy: 9.9987e-01, Test Loss: 2.8951e-05, Test Accuracy: 9.9986e-01\n",
    "Epoch [124/150], Train Loss: 7.8779e-06, Train Accuracy: 9.9987e-01, Test Loss: 2.9015e-05, Test Accuracy: 9.9986e-01\n",
    "Epoch [125/150], Train Loss: 7.8529e-06, Train Accuracy: 9.9987e-01, Test Loss: 2.8921e-05, Test Accuracy: 9.9986e-01\n",
    "Epoch [126/150], Train Loss: 7.8304e-06, Train Accuracy: 9.9987e-01, Test Loss: 2.8898e-05, Test Accuracy: 9.9986e-01\n",
    "Epoch [127/150], Train Loss: 7.8073e-06, Train Accuracy: 9.9987e-01, Test Loss: 2.8947e-05, Test Accuracy: 9.9986e-01\n",
    "Epoch [128/150], Train Loss: 7.7892e-06, Train Accuracy: 9.9987e-01, Test Loss: 2.8904e-05, Test Accuracy: 9.9986e-01\n",
    "Epoch [129/150], Train Loss: 7.7676e-06, Train Accuracy: 9.9987e-01, Test Loss: 2.8983e-05, Test Accuracy: 9.9986e-01\n",
    "Epoch [130/150], Train Loss: 7.7498e-06, Train Accuracy: 9.9987e-01, Test Loss: 2.9002e-05, Test Accuracy: 9.9986e-01\n",
    "Epoch [131/150], Train Loss: 7.7314e-06, Train Accuracy: 9.9987e-01, Test Loss: 2.8975e-05, Test Accuracy: 9.9986e-01\n",
    "Epoch [132/150], Train Loss: 7.7144e-06, Train Accuracy: 9.9987e-01, Test Loss: 2.8941e-05, Test Accuracy: 9.9986e-01\n",
    "Epoch [133/150], Train Loss: 7.6969e-06, Train Accuracy: 9.9987e-01, Test Loss: 2.8923e-05, Test Accuracy: 9.9986e-01\n",
    "Epoch [134/150], Train Loss: 7.6802e-06, Train Accuracy: 9.9987e-01, Test Loss: 2.8950e-05, Test Accuracy: 9.9986e-01\n",
    "Epoch [135/150], Train Loss: 7.6654e-06, Train Accuracy: 9.9987e-01, Test Loss: 2.9012e-05, Test Accuracy: 9.9986e-01\n",
    "Epoch [136/150], Train Loss: 7.6482e-06, Train Accuracy: 9.9987e-01, Test Loss: 2.8887e-05, Test Accuracy: 9.9986e-01\n",
    "Epoch [137/150], Train Loss: 7.6323e-06, Train Accuracy: 9.9987e-01, Test Loss: 2.8977e-05, Test Accuracy: 9.9986e-01\n",
    "Epoch [138/150], Train Loss: 7.6166e-06, Train Accuracy: 9.9987e-01, Test Loss: 2.8951e-05, Test Accuracy: 9.9986e-01\n",
    "Epoch [139/150], Train Loss: 7.6028e-06, Train Accuracy: 9.9987e-01, Test Loss: 2.8961e-05, Test Accuracy: 9.9986e-01\n",
    "Epoch [140/150], Train Loss: 7.5874e-06, Train Accuracy: 9.9987e-01, Test Loss: 2.8923e-05, Test Accuracy: 9.9986e-01\n",
    "Epoch [141/150], Train Loss: 7.5728e-06, Train Accuracy: 9.9987e-01, Test Loss: 2.8916e-05, Test Accuracy: 9.9986e-01\n",
    "Epoch [142/150], Train Loss: 7.5573e-06, Train Accuracy: 9.9987e-01, Test Loss: 2.8934e-05, Test Accuracy: 9.9986e-01\n",
    "Epoch [143/150], Train Loss: 7.5444e-06, Train Accuracy: 9.9987e-01, Test Loss: 2.8884e-05, Test Accuracy: 9.9986e-01\n",
    "Epoch [144/150], Train Loss: 7.5298e-06, Train Accuracy: 9.9987e-01, Test Loss: 2.8896e-05, Test Accuracy: 9.9986e-01\n",
    "Epoch [145/150], Train Loss: 7.5164e-06, Train Accuracy: 9.9987e-01, Test Loss: 2.9005e-05, Test Accuracy: 9.9986e-01\n",
    "Epoch [146/150], Train Loss: 7.5020e-06, Train Accuracy: 9.9987e-01, Test Loss: 2.8941e-05, Test Accuracy: 9.9986e-01\n",
    "Epoch [147/150], Train Loss: 7.4903e-06, Train Accuracy: 9.9987e-01, Test Loss: 2.8938e-05, Test Accuracy: 9.9986e-01\n",
    "Epoch [148/150], Train Loss: 7.4772e-06, Train Accuracy: 9.9987e-01, Test Loss: 2.8941e-05, Test Accuracy: 9.9986e-01\n",
    "Epoch [149/150], Train Loss: 7.4633e-06, Train Accuracy: 9.9987e-01, Test Loss: 2.8967e-05, Test Accuracy: 9.9986e-01\n",
    "Epoch [150/150], Train Loss: 7.4500e-06, Train Accuracy: 9.9987e-01, Test Loss: 2.8918e-05, Test Accuracy: 9.9986e-01\n",
    "\"\"\""
   ]
  },
  {
   "cell_type": "code",
   "execution_count": null,
   "metadata": {
    "colab": {
     "base_uri": "https://localhost:8080/",
     "height": 244
    },
    "id": "byh1ofl4HBTX",
    "outputId": "2086f179-dcc3-4539-a73f-5588040ad620"
   },
   "outputs": [
    {
     "data": {
      "application/vnd.google.colaboratory.intrinsic+json": {
       "type": "string"
      },
      "text/plain": [
       "'\\nEpoch [1/25], Train Loss: 1.2842, Train Accuracy: 0.9915, Test Loss: 1.0495, Test Accuracy: 0.9891\\nEpoch [2/25], Train Loss: 1.0115, Train Accuracy: 0.9901, Test Loss: 0.9570, Test Accuracy: 0.9907\\nEpoch [3/25], Train Loss: 0.9582, Train Accuracy: 0.9919, Test Loss: 0.9331, Test Accuracy: 0.9928\\nEpoch [4/25], Train Loss: 0.9395, Train Accuracy: 0.9930, Test Loss: 0.9221, Test Accuracy: 0.9932\\nEpoch [5/25], Train Loss: 0.9275, Train Accuracy: 0.9936, Test Loss: 0.9120, Test Accuracy: 0.9936\\nEpoch [6/25], Train Loss: 0.9159, Train Accuracy: 0.9940, Test Loss: 0.9057, Test Accuracy: 0.9940\\nEpoch [7/25], Train Loss: 0.9041, Train Accuracy: 0.9942, Test Loss: 0.9057, Test Accuracy: 0.9942\\nEpoch [8/25], Train Loss: 0.8939, Train Accuracy: 0.9941, Test Loss: 0.9057, Test Accuracy: 0.9939\\nEpoch [9/25], Train Loss: 0.8825, Train Accuracy: 0.9942, Test Loss: 0.8934, Test Accuracy: 0.9946\\nEpoch [10/25], Train Loss: 0.8704, Train Accuracy: 0.9943, Test Loss: 0.8973, Test Accuracy: 0.9943\\nEpoch [11/25], Train Loss: 0.8589, Train Accuracy: 0.9944, Test Loss: 0.8936, Test Accuracy: 0.9940\\nEpoch [12/25], Train Loss: 0.8468, Train Accuracy: 0.9945, Test Loss: 0.8897, Test Accuracy: 0.9947\\nEpoch [13/25], Train Loss: 0.8375, Train Accuracy: 0.9948, Test Loss: 0.8844, Test Accuracy: 0.9947\\nEpoch [14/25], Train Loss: 0.8283, Train Accuracy: 0.9949, Test Loss: 0.8757, Test Accuracy: 0.9952\\nEpoch [15/25], Train Loss: 0.8203, Train Accuracy: 0.9950, Test Loss: 0.8778, Test Accuracy: 0.9949\\nEpoch [16/25], Train Loss: 0.8141, Train Accuracy: 0.9951, Test Loss: 0.8833, Test Accuracy: 0.9951\\nEpoch [17/25], Train Loss: 0.8061, Train Accuracy: 0.9952, Test Loss: 0.8756, Test Accuracy: 0.9953\\nEpoch [18/25], Train Loss: 0.7978, Train Accuracy: 0.9953, Test Loss: 0.8757, Test Accuracy: 0.9955\\nEpoch [19/25], Train Loss: 0.7915, Train Accuracy: 0.9953, Test Loss: 0.8671, Test Accuracy: 0.9956\\nEpoch [20/25], Train Loss: 0.7840, Train Accuracy: 0.9953, Test Loss: 0.8629, Test Accuracy: 0.9956\\nEpoch [21/25], Train Loss: 0.7778, Train Accuracy: 0.9954, Test Loss: 0.8631, Test Accuracy: 0.9956\\nEpoch [22/25], Train Loss: 0.7722, Train Accuracy: 0.9954, Test Loss: 0.8639, Test Accuracy: 0.9952\\nEpoch [23/25], Train Loss: 0.7666, Train Accuracy: 0.9953, Test Loss: 0.8576, Test Accuracy: 0.9958\\nEpoch [24/25], Train Loss: 0.7600, Train Accuracy: 0.9954, Test Loss: 0.8596, Test Accuracy: 0.9951\\nEpoch [25/25], Train Loss: 0.7540, Train Accuracy: 0.9954, Test Loss: 0.8565, Test Accuracy: 0.9955\\n'"
      ]
     },
     "execution_count": 12,
     "metadata": {},
     "output_type": "execute_result"
    }
   ],
   "source": [
    "\"\"\"\n",
    "Epoch [1/25], Train Loss: 1.2842, Train Accuracy: 0.9915, Test Loss: 1.0495, Test Accuracy: 0.9891\n",
    "Epoch [2/25], Train Loss: 1.0115, Train Accuracy: 0.9901, Test Loss: 0.9570, Test Accuracy: 0.9907\n",
    "Epoch [3/25], Train Loss: 0.9582, Train Accuracy: 0.9919, Test Loss: 0.9331, Test Accuracy: 0.9928\n",
    "Epoch [4/25], Train Loss: 0.9395, Train Accuracy: 0.9930, Test Loss: 0.9221, Test Accuracy: 0.9932\n",
    "Epoch [5/25], Train Loss: 0.9275, Train Accuracy: 0.9936, Test Loss: 0.9120, Test Accuracy: 0.9936\n",
    "Epoch [6/25], Train Loss: 0.9159, Train Accuracy: 0.9940, Test Loss: 0.9057, Test Accuracy: 0.9940\n",
    "Epoch [7/25], Train Loss: 0.9041, Train Accuracy: 0.9942, Test Loss: 0.9057, Test Accuracy: 0.9942\n",
    "Epoch [8/25], Train Loss: 0.8939, Train Accuracy: 0.9941, Test Loss: 0.9057, Test Accuracy: 0.9939\n",
    "Epoch [9/25], Train Loss: 0.8825, Train Accuracy: 0.9942, Test Loss: 0.8934, Test Accuracy: 0.9946\n",
    "Epoch [10/25], Train Loss: 0.8704, Train Accuracy: 0.9943, Test Loss: 0.8973, Test Accuracy: 0.9943\n",
    "Epoch [11/25], Train Loss: 0.8589, Train Accuracy: 0.9944, Test Loss: 0.8936, Test Accuracy: 0.9940\n",
    "Epoch [12/25], Train Loss: 0.8468, Train Accuracy: 0.9945, Test Loss: 0.8897, Test Accuracy: 0.9947\n",
    "Epoch [13/25], Train Loss: 0.8375, Train Accuracy: 0.9948, Test Loss: 0.8844, Test Accuracy: 0.9947\n",
    "Epoch [14/25], Train Loss: 0.8283, Train Accuracy: 0.9949, Test Loss: 0.8757, Test Accuracy: 0.9952\n",
    "Epoch [15/25], Train Loss: 0.8203, Train Accuracy: 0.9950, Test Loss: 0.8778, Test Accuracy: 0.9949\n",
    "Epoch [16/25], Train Loss: 0.8141, Train Accuracy: 0.9951, Test Loss: 0.8833, Test Accuracy: 0.9951\n",
    "Epoch [17/25], Train Loss: 0.8061, Train Accuracy: 0.9952, Test Loss: 0.8756, Test Accuracy: 0.9953\n",
    "Epoch [18/25], Train Loss: 0.7978, Train Accuracy: 0.9953, Test Loss: 0.8757, Test Accuracy: 0.9955\n",
    "Epoch [19/25], Train Loss: 0.7915, Train Accuracy: 0.9953, Test Loss: 0.8671, Test Accuracy: 0.9956\n",
    "Epoch [20/25], Train Loss: 0.7840, Train Accuracy: 0.9953, Test Loss: 0.8629, Test Accuracy: 0.9956\n",
    "Epoch [21/25], Train Loss: 0.7778, Train Accuracy: 0.9954, Test Loss: 0.8631, Test Accuracy: 0.9956\n",
    "Epoch [22/25], Train Loss: 0.7722, Train Accuracy: 0.9954, Test Loss: 0.8639, Test Accuracy: 0.9952\n",
    "Epoch [23/25], Train Loss: 0.7666, Train Accuracy: 0.9953, Test Loss: 0.8576, Test Accuracy: 0.9958\n",
    "Epoch [24/25], Train Loss: 0.7600, Train Accuracy: 0.9954, Test Loss: 0.8596, Test Accuracy: 0.9951\n",
    "Epoch [25/25], Train Loss: 0.7540, Train Accuracy: 0.9954, Test Loss: 0.8565, Test Accuracy: 0.9955\n",
    "\"\"\""
   ]
  },
  {
   "cell_type": "code",
   "execution_count": null,
   "metadata": {
    "id": "ZjRGcPBdP31K"
   },
   "outputs": [],
   "source": [
    "# Specify the device\n",
    "device = torch.device('cuda' if torch.cuda.is_available() else 'cpu')\n",
    "\n",
    "# Initialize the model\n",
    "#model = DrumClassifier().to(device)\n",
    "\n",
    "# Load the saved weights into the model\n",
    "#model.load_state_dict(torch.load('/midi/MyDrive/midi/drum_classifier_inline_model_3.pth', map_location=device))\n"
   ]
  },
  {
   "cell_type": "code",
   "execution_count": null,
   "metadata": {
    "colab": {
     "base_uri": "https://localhost:8080/",
     "height": 711
    },
    "id": "QI07-j81P34N",
    "outputId": "f0c1e059-18d4-4da5-aa2c-f5e6a8c41418"
   },
   "outputs": [
    {
     "data": {
      "image/png": "[encoded data removed]",
      "text/plain": [
       "<Figure size 1200x600 with 1 Axes>"
      ]
     },
     "metadata": {},
     "output_type": "display_data"
    },
    {
     "data": {
      "image/png": "[encoded data removed]",
      "text/plain": [
       "<Figure size 1200x600 with 1 Axes>"
      ]
     },
     "metadata": {},
     "output_type": "display_data"
    }
   ],
   "source": [
    "# Plot training and test loss\n",
    "\n",
    "import matplotlib.pyplot as plt\n",
    "\n",
    "plt.figure(figsize=(12, 6))\n",
    "plt.plot(train_losses, label='Training Loss')\n",
    "plt.plot(test_losses, label='Test Loss')\n",
    "plt.xlabel('Epoch')\n",
    "plt.ylabel('Loss')\n",
    "plt.legend()\n",
    "plt.title('Loss over Epochs')\n",
    "plt.show()\n",
    "\n",
    "# Plot training and test accuracy\n",
    "plt.figure(figsize=(12, 6))\n",
    "plt.plot(train_accuracies, label='Training Accuracy')\n",
    "plt.plot(test_accuracies, label='Test Accuracy')\n",
    "plt.xlabel('Epoch')\n",
    "plt.ylabel('Accuracy')\n",
    "plt.legend()\n",
    "plt.title('Accuracy over Epochs')\n",
    "plt.show()"
   ]
  },
  {
   "cell_type": "code",
   "execution_count": null,
   "metadata": {
    "id": "WFcb1XIosQDz"
   },
   "outputs": [],
   "source": [
    "# Specify the path where you want to save your model\n",
    "model_save_path = '/midi/MyDrive/midi/Inline Model from Working Version-V3_reaper_midi error_drop_05_nosig_best.pth'\n",
    "\n",
    "# Save the model\n",
    "torch.save(model.state_dict(), model_save_path)\n"
   ]
  },
  {
   "cell_type": "code",
   "execution_count": null,
   "metadata": {
    "id": "4kTp78u2sSU_"
   },
   "outputs": [],
   "source": [
    "# Specify the device\n",
    "device = torch.device('cuda' if torch.cuda.is_available() else 'cpu')\n",
    "\n",
    "# Initialize the model\n",
    "#model = DrumClassifier().to(device)\n",
    "\n",
    "# Load the saved weights into the model\n",
    "#model.load_state_dict(torch.load('/midi/MyDrive/midi/Inline Model from Working Version-V3_reaper_midi error_drop_05_nosig_best.pth', map_location=device))\n"
   ]
  },
  {
   "cell_type": "code",
   "execution_count": null,
   "metadata": {
    "colab": {
     "base_uri": "https://localhost:8080/"
    },
    "id": "v0NIZHHlsSe0",
    "outputId": "dca26f6b-f5a6-4a78-8064-44eaac269097"
   },
   "outputs": [
    {
     "name": "stdout",
     "output_type": "stream",
     "text": [
      "Output shape: torch.Size([1, 127, 832])\n",
      "Output: tensor([[[ 2.0066e-04, -1.9435e-03,  8.8410e-05,  ...,  1.2655e-04,\n",
      "          -6.1594e-05, -1.5386e-04],\n",
      "         [ 1.0422e-04,  6.5514e-04,  4.5910e-04,  ...,  5.7157e-05,\n",
      "          -5.1437e-06, -6.7910e-05],\n",
      "         [-9.0666e-05,  1.0971e-05, -8.3939e-07,  ...,  1.9732e-05,\n",
      "          -7.7934e-06, -1.9392e-07],\n",
      "         ...,\n",
      "         [ 1.9352e-05, -4.4606e-04,  1.2846e-03,  ...,  2.4203e-05,\n",
      "           4.8373e-06,  1.4304e-04],\n",
      "         [-8.5967e-05, -8.0932e-04,  5.4181e-04,  ..., -7.6541e-06,\n",
      "           8.8409e-05, -3.0850e-05],\n",
      "         [ 2.6245e-04, -2.5821e-04, -1.0884e-03,  ...,  1.8546e-05,\n",
      "          -3.1876e-05,  2.9737e-05]]], device='cuda:0',\n",
      "       grad_fn=<ConvolutionBackward0>)\n"
     ]
    }
   ],
   "source": [
    "# Print the values of 'output' and its shape.\n",
    "# Set 'file_index' for printing spectrograms.\n",
    "# The red code was used for saved STFTs. Now using inline. Can delete.\n",
    "\n",
    "file_index = 9145  # this is the variable that you can change\n",
    "\n",
    "x_slice_100 = dataset[file_index][0].unsqueeze(0).to(device)\n",
    "\n",
    "# Pass the input tensor through the model\n",
    "output = model(x_slice_100)\n",
    "\n",
    "# Print the output shape and the output\n",
    "print(\"Output shape:\", output.shape)\n",
    "print(\"Output:\", output)"
   ]
  },
  {
   "cell_type": "code",
   "execution_count": null,
   "metadata": {
    "colab": {
     "base_uri": "https://localhost:8080/",
     "height": 747
    },
    "id": "2rbv73BEsSlJ",
    "outputId": "35ff3c31-5874-436c-f8c9-7e2a9b8ccd85"
   },
   "outputs": [
    {
     "data": {
      "image/png": "[encoded data removed]",
      "text/plain": [
       "<Figure size 1200x600 with 2 Axes>"
      ]
     },
     "metadata": {},
     "output_type": "display_data"
    },
    {
     "data": {
      "image/png": "[encoded data removed]",
      "text/plain": [
       "<Figure size 1200x600 with 2 Axes>"
      ]
     },
     "metadata": {},
     "output_type": "display_data"
    }
   ],
   "source": [
    "# Plots the output of the STFT that was opened from disk. Tests the model.\n",
    "# array_path = \"D:/Python/common/midi/STFT/stft_spectrogram_0.npy\"  # Replace the index with the desired slice\n",
    "\n",
    "stft_check = output.detach().squeeze(0).cpu().numpy()\n",
    "\n",
    "trunc_time = 2.5 * (832/862)\n",
    "\n",
    "import matplotlib.pyplot as plt\n",
    "\n",
    "plt.figure(figsize=(12, 6))\n",
    "plt.imshow(stft_check, origin='lower', aspect='auto', cmap='viridis', extent=[0, 832, 0, 127])\n",
    "plt.colorbar(label='Magnitude')\n",
    "plt.xlabel('Time (s)')\n",
    "plt.ylabel('Frequency bins')\n",
    "plt.title('STFT Spectrogram (Output)')\n",
    "plt.show()\n",
    "\n",
    "#file_path = r\"D:\\Python\\common\\midi\\MIDI\\processed_midi_{0}.npy\".format(file_index)\n",
    "#spectrogram = np.load(file_path)\n",
    "spectrogram = list_of_processed_midi[file_index]\n",
    "\n",
    "\n",
    "trunc_time = 2.5 * (832/862)\n",
    "\n",
    "import matplotlib.pyplot as plt\n",
    "\n",
    "plt.figure(figsize=(12, 6))\n",
    "plt.imshow(spectrogram, origin='lower', aspect='auto', cmap='viridis', extent=[0, 832, 0, 127])\n",
    "plt.colorbar(label='Magnitude')\n",
    "plt.xlabel('Time (s)')\n",
    "plt.ylabel('Frequency bins')\n",
    "plt.title('STFT Spectrogram (Input)')\n",
    "plt.show()"
   ]
  },
  {
   "cell_type": "code",
   "execution_count": null,
   "metadata": {
    "colab": {
     "base_uri": "https://localhost:8080/"
    },
    "id": "PWd8kkXVs1CD",
    "outputId": "c2273262-4450-42a3-b5e1-98301fc7d38a"
   },
   "outputs": [
    {
     "name": "stdout",
     "output_type": "stream",
     "text": [
      "x: 36, y: 0, value: 12.0\n",
      "x: 48, y: 2, value: 90.0\n",
      "x: 51, y: 2, value: 80.0\n",
      "x: 44, y: 168, value: 77.0\n",
      "x: 51, y: 170, value: 93.0\n",
      "x: 36, y: 171, value: 74.0\n",
      "x: 51, y: 353, value: 51.0\n",
      "x: 38, y: 466, value: 91.0\n",
      "x: 51, y: 467, value: 116.0\n",
      "x: 44, y: 513, value: 78.0\n",
      "x: 36, y: 515, value: 11.0\n",
      "x: 48, y: 636, value: 105.0\n",
      "x: 36, y: 685, value: 10.0\n",
      "x: 51, y: 695, value: 50.0\n",
      "x: 51, y: 806, value: 99.0\n",
      "x: 36, y: 807, value: 77.0\n"
     ]
    }
   ],
   "source": [
    "import numpy as np\n",
    "\n",
    "# I'll generate a dummy 2D array for the example\n",
    "spectrogram = list_of_processed_midi[file_index]\n",
    "\n",
    "non_zero_values = []\n",
    "\n",
    "# Iterate over the spectrogram\n",
    "for i in range(spectrogram.shape[0]):\n",
    "    for j in range(spectrogram.shape[1]):\n",
    "        # If the value is non-zero\n",
    "        if spectrogram[i][j] != 0:\n",
    "            non_zero_values.append((i, j, spectrogram[i][j]))\n",
    "\n",
    "# Sort the list by the y values (j indices)\n",
    "non_zero_values.sort(key=lambda x: x[1])\n",
    "\n",
    "# Print the sorted list\n",
    "for val in non_zero_values:\n",
    "    print(f\"x: {val[0]}, y: {val[1]}, value: {val[2]}\")\n"
   ]
  },
  {
   "cell_type": "code",
   "execution_count": null,
   "metadata": {
    "colab": {
     "base_uri": "https://localhost:8080/"
    },
    "id": "jju6qQqps1Hz",
    "outputId": "5188c7a7-1190-4aad-bb47-4746eb56c31b"
   },
   "outputs": [
    {
     "name": "stdout",
     "output_type": "stream",
     "text": [
      "x: 48, y: 2, vel: 111\n",
      "x: 51, y: 2, vel: 62\n",
      "x: 51, y: 3, vel: 22\n",
      "x: 44, y: 168, vel: 18\n",
      "x: 44, y: 169, vel: 39\n",
      "x: 51, y: 169, vel: 98\n",
      "x: 36, y: 171, vel: 83\n",
      "x: 51, y: 353, vel: 56\n",
      "x: 38, y: 466, vel: 91\n",
      "x: 51, y: 467, vel: 115\n",
      "x: 44, y: 512, vel: 14\n",
      "x: 44, y: 513, vel: 107\n",
      "x: 48, y: 636, vel: 105\n",
      "x: 51, y: 695, vel: 53\n",
      "x: 51, y: 806, vel: 66\n",
      "x: 36, y: 807, vel: 73\n",
      "x: 51, y: 807, vel: 31\n"
     ]
    },
    {
     "data": {
      "text/plain": [
       "numpy.ndarray"
      ]
     },
     "execution_count": 20,
     "metadata": {},
     "output_type": "execute_result"
    }
   ],
   "source": [
    "# Get the indices where vel > 1\n",
    "\n",
    "stft_check_127 = stft_check * 127\n",
    "indices = np.argwhere(stft_check_127 > 9.5)\n",
    "\n",
    "# Sort the indices by the y values (second column)\n",
    "sorted_indices = indices[indices[:, 1].argsort()]\n",
    "\n",
    "# Print the x, y, and vel values\n",
    "for idx in sorted_indices:\n",
    "    x, y = idx\n",
    "    vel = int(stft_check_127[x, y])\n",
    "    print(f\"x: {x}, y: {y}, vel: {vel}\")\n",
    "type(stft_check_127)"
   ]
  },
  {
   "cell_type": "code",
   "execution_count": 22,
   "metadata": {
    "colab": {
     "base_uri": "https://localhost:8080/"
    },
    "id": "99g0hqsIs8RL",
    "outputId": "3fef5640-c6e0-431f-a23e-0bff2d1912aa"
   },
   "outputs": [
    {
     "name": "stdout",
     "output_type": "stream",
     "text": [
      "Python version:\n",
      "3.10.12 (main, Nov 20 2023, 15:14:05) [GCC 11.4.0]\n",
      "\n",
      "Python info:\n",
      "sys.version_info(major=3, minor=10, micro=12, releaselevel='final', serial=0)\n",
      "\n",
      "Jupyter Notebook version:\n",
      "6.5.5\n",
      "\n",
      "IPython version:\n",
      "7.34.0\n",
      "\n",
      "NumPy version:\n",
      "1.23.5\n",
      "\n",
      "Pandas version:\n",
      "1.5.3\n",
      "\n",
      "Matplotlib version:\n",
      "3.7.1\n",
      "\n",
      "Seaborn version:\n",
      "0.12.2\n",
      "\n",
      "Scikit-Learn version:\n",
      "1.2.2\n",
      "\n",
      "PyTorch version:\n",
      "2.1.0+cu121\n",
      "\n",
      "scipy version:\n",
      "1.11.4\n",
      "\n",
      "joblib version:\n",
      "1.3.2\n",
      "\n",
      "librosa version:\n",
      "0.10.1\n",
      "\n",
      "nnAudioversion:\n",
      "0.3.2\n",
      "\n",
      "CUDA Version: 12.1\n"
     ]
    }
   ],
   "source": [
    "import sys\n",
    "\n",
    "print(\"Python version:\")\n",
    "print(sys.version)\n",
    "\n",
    "print(\"\\nPython info:\")\n",
    "print(sys.version_info)\n",
    "\n",
    "print(\"\\nJupyter Notebook version:\")\n",
    "import notebook\n",
    "print(notebook.__version__)\n",
    "\n",
    "print(\"\\nIPython version:\")\n",
    "import IPython\n",
    "print(IPython.__version__)\n",
    "\n",
    "print(\"\\nNumPy version:\")\n",
    "import numpy as np\n",
    "print(np.__version__)\n",
    "\n",
    "print(\"\\nPandas version:\")\n",
    "import pandas as pd\n",
    "print(pd.__version__)\n",
    "\n",
    "print(\"\\nMatplotlib version:\")\n",
    "import matplotlib\n",
    "print(matplotlib.__version__)\n",
    "\n",
    "print(\"\\nSeaborn version:\")\n",
    "import seaborn as sns\n",
    "print(sns.__version__)\n",
    "\n",
    "print(\"\\nScikit-Learn version:\")\n",
    "import sklearn\n",
    "print(sklearn.__version__)\n",
    "\n",
    "print(\"\\nPyTorch version:\")\n",
    "import torch\n",
    "print(torch.__version__)\n",
    "\n",
    "print(\"\\nscipy version:\")\n",
    "import scipy\n",
    "print(scipy.__version__)\n",
    "\n",
    "print(\"\\njoblib version:\")\n",
    "import joblib\n",
    "print(joblib.__version__)\n",
    "\n",
    "print(\"\\nlibrosa version:\")\n",
    "import librosa\n",
    "print(librosa.__version__)\n",
    "\n",
    "print(\"\\nnnAudioversion:\")\n",
    "import nnAudio\n",
    "print(nnAudio.__version__)\n",
    "\n",
    "import torch\n",
    "cuda_version = torch.version.cuda if torch.cuda.is_available() else \"No CUDA support\"\n",
    "print(f\"\\nCUDA Version: {cuda_version}\")"
   ]
  },
  {
   "cell_type": "code",
   "execution_count": null,
   "metadata": {
    "id": "SzAh8P6cs8eS"
   },
   "outputs": [],
   "source": []
  }
 ],
 "metadata": {
  "accelerator": "GPU",
  "colab": {
   "gpuType": "A100",
   "machine_shape": "hm",
   "provenance": []
  },
  "gpuClass": "standard",
  "kernelspec": {
   "display_name": "Python 3 (ipykernel)",
   "language": "python",
   "name": "python3"
  },
  "language_info": {
   "codemirror_mode": {
    "name": "ipython",
    "version": 3
   },
   "file_extension": ".py",
   "mimetype": "text/x-python",
   "name": "python",
   "nbconvert_exporter": "python",
   "pygments_lexer": "ipython3",
   "version": "3.10.12"
  }
 },
 "nbformat": 4,
 "nbformat_minor": 1
}
